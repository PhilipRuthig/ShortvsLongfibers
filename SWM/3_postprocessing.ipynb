{
 "cells": [
  {
   "cell_type": "markdown",
   "metadata": {},
   "source": [
    "### EMTOOLS -- Postprocessing\n",
    "This notebook processes semantic segmentations from Uni-EM into instance segmentations. It outputs the measurements defined below as a pandas dataframe, excel spreadsheet, csv, and in various figures.\n",
    "\n",
    "**Author:** Philip Ruthig, Paul Flechsig Institute, Center of Neuropathology and Brain Research Leipzig\n",
    "\n",
    "**Contact:** philip.ruthig@medizin.uni-leipzig.de // philip.ruthig@gmail.com\n",
    "\n",
    "**Publication:**\n",
    "Please contact me if you want to use this code for any publication.\n",
    "\n",
    "#### These measures are output for every fiber (inner) and myelin (outer) instance in a paired manner:\n",
    "- `label`: unique ID for every cell found.\n",
    "- `area`: area (in pixels) of the given cell in µm²\n",
    "- `centroid-0` and `centroid-1`: x and y coordinats of the centroid of each cell\n",
    "- `axis_major_length`: equivalent ellipse major axis length (diameter) in µm\n",
    "- `axis_minor_length`: equivalent ellipse minor axis length (diameter) in µm\n",
    "- `eccentricity`: Value between 0 and 1 that defines the non-circularity of a structure. The closer it is to 0, the closer it is to a circle. An eccentricity of 1 means it is a parabola. Eccentricity here is defined as the ratio of the focal distance (distance between focal points) over the major axis length of the ellipse with the same second moment as the binary structure.\n",
    "- `orientation`: Orientation of the structure in rad, value between -1/2pi and +1/2pi\n",
    "- `equivalent_diameter_area`: diameter of the circle with an equivalent area to the cell\n",
    "- `slice`: a slice object to extract this cell from the image\n",
    "\n",
    "For more detailed info on the extracted values, see the original documentation of scikit-image function used to extract these values:\n",
    "- https://scikit-image.org/docs/stable/api/skimage.measure.html#skimage.measure.regionprops\n",
    "\n",
    "#### These measures are output for each pair of fiber and myelin:\n",
    "- `file`: The filename of the image this cell came from\n",
    "- `gratio`: approximate g ratio of the given cell, here defined as axis_minor_length(fiber)/axis_minor_length/(myelin)\n",
    "- `orientation_mean_deg`: Mean orientation between the fiber and myelin (in degrees)\n",
    "- `eccentricity_mean`: Mean eccentricity between the fiber and myelin"
   ]
  },
  {
   "cell_type": "code",
   "execution_count": 1,
   "metadata": {},
   "outputs": [
    {
     "name": "stderr",
     "output_type": "stream",
     "text": [
      "c:\\Users\\Hoellenmaschine2\\anaconda3\\lib\\site-packages\\paramiko\\transport.py:219: CryptographyDeprecationWarning: Blowfish has been deprecated\n",
      "  \"class\": algorithms.Blowfish,\n"
     ]
    }
   ],
   "source": [
    "import numpy as np\n",
    "import tifffile as tf\n",
    "import scipy.ndimage as ndi\n",
    "import matplotlib.pyplot as plt\n",
    "import pandas as pd\n",
    "import math as m\n",
    "import skimage\n",
    "import tqdm\n",
    "import os\n",
    "import colorcet as cc\n",
    "import plotly.io as pio\n",
    "import plotly.express as px\n",
    "import re\n",
    "import pickle\n",
    "import cv2\n",
    "from skimage.measure import regionprops, regionprops_table\n",
    "from skimage.morphology import disk\n",
    "from os import listdir\n",
    "from os.path import isfile, join\n",
    "%matplotlib inline"
   ]
  },
  {
   "cell_type": "code",
   "execution_count": 2,
   "metadata": {},
   "outputs": [],
   "source": [
    "def resolve_undersegmentation(outer_labels,inner_labels):\n",
    "    '''\n",
    "    This function resolves undersegmented 'kissing' cells. This function assumes that inner_labels never touch, but outer_labels do.\n",
    "    Each outer area of a cell must touch the corresponding inner area.\n",
    "\n",
    "    outer_labels = outer labels with undersegmented kissing cells that need to be seperated\n",
    "    inner_labels = inner labels without undersegmented kissing cells\n",
    "\n",
    "    returns: Two arrays of the same shape, with uniform labels across both images. \n",
    "    '''\n",
    "    from skimage.segmentation import watershed\n",
    "    from skimage.feature import peak_local_max\n",
    "    outer_labels = outer_labels.astype('bool')\n",
    "    inner_labels = inner_labels.astype('bool')\n",
    "    # do distance transformation of combined binary image of outer+inner\n",
    "    seg_dist = ndi.distance_transform_edt(outer_labels+inner_labels)\n",
    "    # Generate the markers as local maxima of the distance to the background\n",
    "    coords = peak_local_max(seg_dist, footprint=np.ones((3, 3)), labels=ndi.label(inner_labels)[0], num_peaks_per_label=1)\n",
    "    # initializie empty mask \n",
    "    mask = np.zeros(seg_dist.shape, dtype=bool)\n",
    "    # insert maximum points into the empty array\n",
    "    mask[tuple(coords.T)] = True\n",
    "    # label each maximum\n",
    "    markers, n = ndi.label(mask)\n",
    "    # print(\"number of cells: \" + str(n))\n",
    "    # perform watershed on outer_labels and inner_labels combined\n",
    "    outer_cells = watershed(-seg_dist, markers, mask=(outer_labels+inner_labels))\n",
    "    inner_cells = np.copy(outer_cells)\n",
    "    # sort the cells (which are now labeled with the same label inner and outer) back into inner and outer labels\n",
    "    inner_cells[inner_labels==0] = 0\n",
    "    outer_cells[inner_labels==True] = 0\n",
    "    return outer_cells,inner_cells\n",
    "\n",
    "def keep_largest_structure(boolean_array):\n",
    "    from scipy import ndimage\n",
    "    # Label each connected component in the boolean array\n",
    "    labeled_array, num_features = ndimage.label(boolean_array)\n",
    "\n",
    "    # Calculate the size of each labeled component\n",
    "    component_sizes = np.bincount(labeled_array.ravel())\n",
    "\n",
    "    # Find the index of the largest component\n",
    "    largest_component_index = np.argmax(component_sizes[1:]) + 1\n",
    "\n",
    "    # Create a boolean mask to keep only the largest component\n",
    "    largest_component_mask = labeled_array == largest_component_index\n",
    "\n",
    "    # Apply the mask to the boolean array\n",
    "    boolean_array[largest_component_mask] = True\n",
    "    boolean_array[~largest_component_mask] = False\n",
    "\n",
    "    return boolean_array\n",
    "\n",
    "def find_numbers(string):\n",
    "    \"\"\"\n",
    "    Finds up to 4-digit numbers in a string.\n",
    "    Parameters:\n",
    "        string\n",
    "    \n",
    "        Returns:\n",
    "        list of numbers\n",
    "    \"\"\"\n",
    "    pattern = r'\\d{1,4}'  # Regular expression pattern for matching numbers with 1 to 4 digits\n",
    "    numbers = re.findall(pattern, string)\n",
    "    numbers = [int(num) for num in numbers]  # Convert numbers to integers\n",
    "    return numbers\n",
    "\n",
    "def z_score_dataframe(dataframe):\n",
    "    \"\"\"\n",
    "    Z-scores a Pandas DataFrame.\n",
    "\n",
    "    Parameters:\n",
    "        dataframe (pd.DataFrame): The input DataFrame.\n",
    "\n",
    "    Returns:\n",
    "        pd.DataFrame: The z-scored DataFrame.\n",
    "    \"\"\"\n",
    "    z_scored_dataframe = (dataframe - dataframe.mean()) / dataframe.std(ddof=0)\n",
    "    return z_scored_dataframe\n",
    "\n",
    "def remove_whitespaces(string):\n",
    "    return \"\".join(string.split())\n",
    "\n",
    "def reconstruct_images(subimg_name_list,img_coord_list,img_original_shape_list,img_original_name_list,save_dir,overlap):\n",
    "    i=0\n",
    "    for orig_img_name in np.unique(np.array(img_original_name_list)):\n",
    "        rec_img = np.zeros(img_original_shape_list[i], dtype='uint8')\n",
    "        print(f\"resaving image: {orig_img_name}\")\n",
    "\n",
    "        \n",
    "        for img_coords in tqdm.tqdm(img_coord_list):\n",
    "            temp_subimg = cv2.imread(f\"2_predicted\\\\{orig_img_name}{remove_whitespaces(str(img_coords))}.png\")\n",
    "            # temp_subimg = cv2.imread(f\"1_preprocessed\\\\{orig_img_name}{remove_whitespaces(str(img_coords))}.png\")\n",
    "            # print(f\"opening {orig_img_name}+{remove_whitespaces(str(img_coords))}.png\")\n",
    "\n",
    "            y_start, y_end, x_start, x_end = img_coords\n",
    "\n",
    "            # Ensure the coordinates are within the bounds of rec_img\n",
    "            y_end = min(y_end, rec_img.shape[0])\n",
    "            x_end = min(x_end, rec_img.shape[1])\n",
    "\n",
    "            # Determine the dimensions for insertion\n",
    "            try:\n",
    "                img_height, img_width = temp_subimg.shape[:2]\n",
    "            except:\n",
    "                # print(\"continuing: \" + str(img_coords))\n",
    "                continue\n",
    "\n",
    "            y_height = min(y_end - y_start, img_height)\n",
    "            x_width = min(x_end - x_start, img_width)\n",
    "\n",
    "            if y_height > 0 and x_width > 0:\n",
    "                rec_img[y_start+overlap//2:y_start + y_height-overlap//2, x_start+overlap//2:x_start + x_width-overlap//2] = temp_subimg[overlap//2:y_height-overlap//2, overlap//2:x_width-overlap//2, 0]\n",
    "            # break\n",
    "        ## crop to region without border artifacts\n",
    "        rec_img = rec_img[overlap//2:-overlap//2,overlap//2:-overlap//2]\n",
    "        tf.imwrite(save_dir+orig_img_name+\".tif\",rec_img.astype('uint8'))\n",
    "        print('writing fused image to:' + str(save_dir+orig_img_name+\".tif\"))\n",
    "        i+=1\n",
    "        # break\n",
    "\n",
    "def mk_dir(directory_path):\n",
    "    if not os.path.exists(directory_path):\n",
    "        os.makedirs(directory_path)\n",
    "\n",
    "# define qualitative colormap\n",
    "glasbey = cc.cm.glasbey_dark_r\n",
    "glasbey.set_under(color=\"black\")"
   ]
  },
  {
   "cell_type": "code",
   "execution_count": 3,
   "metadata": {},
   "outputs": [],
   "source": [
    "# path to semantic segmentation images\n",
    "path_raw_predictions = (r\"2_predicted\\\\\")\n",
    "path_reconstructed_predictions = (r\"2_predicted_reconstructed\\\\\")\n",
    "path_results = (r\"3_postprocessed\\\\\")"
   ]
  },
  {
   "cell_type": "code",
   "execution_count": 4,
   "metadata": {},
   "outputs": [],
   "source": [
    "### USER INPUTS\n",
    "troubleshoot_small_big_gratios = False # Set to True for troubleshooting purposes. Only set to True if you get weird (lots of very small (<0.1) and/or big (>0.9)) gratios\n",
    "plot_all = False # if False, only final plots that are saved. Use True for troubleshooting purposes only.\n",
    "px_size = 4.3*4 # pixel size in nm, multiplied by the downscaling factor applied in the preprocessing step\n",
    "threshold_myelin = 50\n",
    "threshold_fiber_upper = 40 \n",
    "threshold_fiber_lower = 28\n",
    "overlap = 200 # overlap defined in step 1"
   ]
  },
  {
   "cell_type": "code",
   "execution_count": 5,
   "metadata": {},
   "outputs": [
    {
     "name": "stdout",
     "output_type": "stream",
     "text": [
      "resaving image: Sample_Data_SWM.ome\n"
     ]
    },
    {
     "name": "stderr",
     "output_type": "stream",
     "text": [
      "  0%|          | 0/4 [00:00<?, ?it/s]"
     ]
    },
    {
     "name": "stderr",
     "output_type": "stream",
     "text": [
      "100%|██████████| 4/4 [00:00<00:00, 87.33it/s]"
     ]
    },
    {
     "name": "stdout",
     "output_type": "stream",
     "text": [
      "writing fused image to:2_predicted_reconstructed\\\\Sample_Data_SWM.ome.tif\n"
     ]
    },
    {
     "name": "stderr",
     "output_type": "stream",
     "text": [
      "\n"
     ]
    }
   ],
   "source": [
    "### reconstruct images from small image slices and re-save them.\n",
    "# load metadata from pkl files\n",
    "with open(r\"img_name_list\",\"rb\") as fp:\n",
    "    img_name_list = pickle.load(fp)\n",
    "\n",
    "with open(r\"img_coord_list\",\"rb\") as fp:\n",
    "    img_coord_list = pickle.load(fp)\n",
    "\n",
    "with open(r\"img_original_shape_list\",\"rb\") as fp:\n",
    "    img_original_shape_list = pickle.load(fp)\n",
    "\n",
    "with open(r\"img_original_name_list\",\"rb\") as fp:\n",
    "    img_original_name_list = pickle.load(fp)\n",
    "\n",
    "reconstruct_images(img_name_list,img_coord_list,img_original_shape_list,img_original_name_list,save_dir=r\"2_predicted_reconstructed\\\\\",overlap=overlap)"
   ]
  },
  {
   "cell_type": "code",
   "execution_count": 6,
   "metadata": {},
   "outputs": [],
   "source": [
    "prediction_files = [f for f in listdir(path_reconstructed_predictions) if isfile(join(path_reconstructed_predictions, f)) and f != \".gitkeep\"]"
   ]
  },
  {
   "cell_type": "code",
   "execution_count": 7,
   "metadata": {},
   "outputs": [
    {
     "name": "stderr",
     "output_type": "stream",
     "text": [
      "  0%|          | 0/1 [00:00<?, ?it/s]"
     ]
    },
    {
     "name": "stdout",
     "output_type": "stream",
     "text": [
      "loaded picture\n",
      "binary operations\n",
      "Starting Cleanup\n",
      "Removing Border Cells\n",
      "removed cell because it is near the border: 0\n",
      "removed cell because it is near the border: 1\n",
      "removed cell because it is near the border: 2\n",
      "removed cell because it is near the border: 4\n",
      "removed cell because it is near the border: 14\n",
      "removed cell because it is near the border: 34\n",
      "removed cell because it is near the border: 40\n",
      "removed cell because it is near the border: 47\n",
      "removed cell because it is near the border: 49\n",
      "removed cell because it is near the border: 69\n",
      "removed cell because it is near the border: 89\n",
      "removed cell because it is near the border: 90\n",
      "removed cell because it is near the border: 91\n",
      "removed cell because it is near the border: 92\n",
      "removed cell because it is near the border: 93\n",
      "removed cell because it is near the border: 94\n",
      "removed cell because it is near the border: 95\n",
      "deleted cells because they don't have myelin: []\n",
      "deleted because smaller than 5 px: cell #[0]\n",
      "extracting measurements\n",
      "re-labeling columns\n",
      "removing gratio>1 cells\n",
      "Removing cells because gratio >1: [5]\n",
      "plotting final segmentation\n"
     ]
    },
    {
     "name": "stderr",
     "output_type": "stream",
     "text": [
      "100%|██████████| 1/1 [00:06<00:00,  6.30s/it]\n"
     ]
    }
   ],
   "source": [
    "i = 0 # index, number of pictures already run\n",
    "prediction_files = [f for f in listdir(path_reconstructed_predictions) if isfile(join(path_reconstructed_predictions, f)) and f != \".gitkeep\"]\n",
    "for file in tqdm.tqdm(prediction_files):\n",
    "    img = tf.imread(path_reconstructed_predictions + file)\n",
    "\n",
    "    print(\"loaded picture\")\n",
    "\n",
    "    if plot_all == True:\n",
    "        # plot raw image\n",
    "        fig, ax = plt.subplots(ncols=1,figsize=(8,8))\n",
    "        ax.imshow(img, cmap='viridis')\n",
    "        ax.set_title('Uni-EM Presegmentation')\n",
    "        plt.show()\n",
    "        plt.hist(img.ravel(), bins=256, range=(0, 255),)\n",
    "        plt.show()\n",
    "\n",
    "    # split different labels\n",
    "    outer = np.zeros_like(img)\n",
    "    inner = np.zeros_like(img)\n",
    "    outer[img>threshold_myelin] = 1\n",
    "    inner[img<threshold_fiber_upper] = 1\n",
    "    inner[img<threshold_fiber_lower] = 0\n",
    "    if plot_all == True:\n",
    "        fig, axs = plt.subplots(ncols=2,figsize=(12,12))\n",
    "        axs[0].imshow(outer, cmap='gray')\n",
    "        axs[1].imshow(inner, cmap='gray')\n",
    "        axs[0].set_title('Outer channel of pre-segmentation')\n",
    "        axs[1].set_title('Inner channel of pre-segmentation')\n",
    "        plt.show()\n",
    "\n",
    "    print(\"binary operations\")\n",
    "\n",
    "    # binary opening to get rid of small speckles\n",
    "    inner = ndi.binary_opening(inner,structure=disk(2))\n",
    "\n",
    "    # fill holes\n",
    "    inner = ndi.binary_fill_holes(inner)\n",
    "\n",
    "    # binary opening to get rid of small speckles\n",
    "    inner = ndi.binary_opening(inner,structure=disk(6))\n",
    "\n",
    "    # dilate inner, then restrict it to everywhere where outer isnt true. \n",
    "    # This is to make sure they are in contact and can be seperated by watershed later on\n",
    "    inner = ndi.binary_dilation(inner,structure=disk(3))\n",
    "\n",
    "    if plot_all == True:\n",
    "        # plot overlay of inner + outer as sanity check\n",
    "        plt.title('after dilation of inner & restriction to outer channel')\n",
    "        plt.imshow(np.ma.array(inner,mask=inner==0),interpolation='None',cmap='tab20')\n",
    "        plt.imshow(np.ma.array(outer,mask=outer==0),interpolation='None',cmap='gray')\n",
    "        plt.show()\n",
    "\n",
    "    print(\"Starting Cleanup\")\n",
    "\n",
    "    #### Cleanup of segmented data\n",
    "    #### Find corresponding outer cells for every inner cellx\n",
    "    outer_labeled,inner_labeled = resolve_undersegmentation(outer,inner.astype('bool'))\n",
    "\n",
    "    if plot_all == True:\n",
    "        print('after relabeling first time')\n",
    "        plt.axis(\"off\")\n",
    "        plt.imshow(inner_labeled+outer_labeled,cmap='viridis')\n",
    "        plt.show()\n",
    "    \n",
    "    both_labeled = outer_labeled+inner_labeled\n",
    "    print(\"Removing Border Cells\")\n",
    "\n",
    "    # remove cells that intersect with the border of the image\n",
    "    border_mask = np.zeros(both_labeled.shape, dtype=bool)\n",
    "    border_mask = ndi.binary_dilation(border_mask,iterations=5,border_value=True) #should not need iterations=5, but does for some reason\n",
    "    cells_deleted_border = []\n",
    "    for id in np.unique(both_labeled):\n",
    "        #keep only current cell as temporary mask\n",
    "        current_id_mask = both_labeled==id \n",
    "\n",
    "        # check if it overlaps with the border mask\n",
    "        overlap = np.logical_and(border_mask,current_id_mask)\n",
    "        overlap_n = np.sum(overlap)\n",
    "\n",
    "        if overlap_n > 0:\n",
    "            cells_deleted_border.append(id)\n",
    "            print(f\"removed cell because it is near the border: {id}\")\n",
    "            both_labeled[both_labeled==id] = 0\n",
    "    \n",
    "    outer_labeled = np.copy(both_labeled)\n",
    "    inner_labeled = np.copy(both_labeled)\n",
    "    \n",
    "    # seperate inner and outer back out\n",
    "    outer_labeled[inner==True] = 0\n",
    "    inner_labeled[inner==0] = 0\n",
    "\n",
    "    if plot_all == True:\n",
    "        plt.axis(\"off\")\n",
    "        plt.imshow(inner_labeled.astype('bool'),cmap='gray')\n",
    "        plt.show()\n",
    "\n",
    "    # at this point, some of the cells do not have myelin. \n",
    "    # Since we only look for myelinated cells, these are filtered out here.\n",
    "    idx_list = []\n",
    "    for idx in np.unique(inner_labeled):\n",
    "        if (outer_labeled==idx).max() == False:\n",
    "            inner_labeled[inner_labeled==idx] = 0\n",
    "            idx_list.append(idx)\n",
    "    print('deleted cells because they don\\'t have myelin: ' + str(idx_list))\n",
    "\n",
    "    #re-label so the labels are uniform again.\n",
    "    outer_labeled,inner_labeled = resolve_undersegmentation(outer_labeled.astype('bool'),inner_labeled.astype('bool'))\n",
    "    \n",
    "    #### Post-Process filtering\n",
    "    # if there are multiple non-connected labels with the same labelling number,\n",
    "    # keep only the biggest one - Inner\n",
    "    for id in np.unique(inner_labeled):\n",
    "        if id == 0:\n",
    "            continue\n",
    "        current_id_mask = inner_labeled==id \n",
    "        current_id_mask_labeled, n = ndi.label(current_id_mask)\n",
    "        if n > 1:\n",
    "            #delete all but the biggest one from this image and from pred_inner_labeled\n",
    "            current_id_kept = keep_largest_structure(current_id_mask_labeled)\n",
    "            #correct the value of the boolean array to the current id\n",
    "            current_id_kept = (current_id_kept*id).astype('uint16')\n",
    "            #re-insert the remaining one to pred_inner_labeled\n",
    "            inner_labeled[inner_labeled==id] = 0\n",
    "            inner_labeled = inner_labeled + current_id_kept\n",
    "            if plot_all == True:\n",
    "                print (\"Removed \" + str(n-1) + \" inner duplicates from id #\" + str(id))\n",
    "\n",
    "    # if there are multiple independent labels with the same labelling number,\n",
    "    # keep only the biggest one - Outer\n",
    "    for id in np.unique(outer_labeled):\n",
    "        if id == 0:\n",
    "            continue\n",
    "        current_id_mask = outer_labeled==id \n",
    "        current_id_mask_labeled, n = ndi.label(current_id_mask)\n",
    "        if n > 1:\n",
    "            #delete all but the biggest one from this image and from pred_inner_labeled\n",
    "            current_id_kept = keep_largest_structure(current_id_mask_labeled)\n",
    "            #correct the value of the boolean array to the current id\n",
    "            current_id_kept = (current_id_kept*id).astype('uint16')\n",
    "            #re-insert the remaining one to pred_inner_labeled\n",
    "            outer_labeled[outer_labeled==id] = 0\n",
    "            outer_labeled = outer_labeled + current_id_kept        \n",
    "            if plot_all == True:\n",
    "                print (\"Removed \" + str(n-1) + \" outer duplicates from id #\" + str(id))\n",
    "\n",
    "    # if fibers are unreasonably small, remove them from further analysis.\n",
    "    deleted_ids = []\n",
    "    for id in np.unique(inner_labeled):\n",
    "        n_px = (np.count_nonzero(inner_labeled[inner_labeled==id]))\n",
    "        if n_px < 5:\n",
    "            inner_labeled[inner_labeled==id]=0\n",
    "            outer_labeled[outer_labeled==id]=0\n",
    "            deleted_ids.append(id)\n",
    "\n",
    "    print('deleted because smaller than 5 px: cell #' + str(deleted_ids))\n",
    "\n",
    "    print(\"extracting measurements\")\n",
    "\n",
    "    table = regionprops_table(label_image=inner_labeled,\n",
    "                            properties=('label',\n",
    "                                        'area',\n",
    "                                        'centroid',\n",
    "                                        'axis_major_length',\n",
    "                                        'axis_minor_length',\n",
    "                                        'eccentricity',\n",
    "                                        'orientation',\n",
    "                                        'slice',))\n",
    "    measurements_inner = pd.DataFrame(table)\n",
    "\n",
    "    if plot_all == True:\n",
    "        # plot centroids, measurements, major and minor axis on image to sanity check\n",
    "        regions = regionprops(inner_labeled)\n",
    "\n",
    "        fig, ax = plt.subplots(figsize=(8,8))\n",
    "        ax.imshow(inner_labeled.astype('bool'), cmap='gray')\n",
    "\n",
    "        for props in regions:\n",
    "            y0, x0 = props.centroid\n",
    "            orientation = props.orientation\n",
    "            x1 = x0 + m.cos(orientation) * 0.5 * props.axis_minor_length\n",
    "            y1 = y0 - m.sin(orientation) * 0.5 * props.axis_minor_length\n",
    "            x2 = x0 - m.sin(orientation) * 0.5 * props.axis_major_length\n",
    "            y2 = y0 - m.cos(orientation) * 0.5 * props.axis_major_length\n",
    "\n",
    "            ax.plot((x0, x1), (y0, y1), '-r', linewidth=2.5)\n",
    "            ax.plot((x0, x2), (y0, y2), '-r', linewidth=2.5)\n",
    "            ax.plot(x0, y0, '.g', markersize=10)\n",
    "\n",
    "            minr, minc, maxr, maxc = props.bbox\n",
    "            bx = (minc, maxc, maxc, minc, minc)\n",
    "            by = (minr, minr, maxr, maxr, minr)\n",
    "            ax.plot(bx, by, '-b', linewidth=1.5)\n",
    "\n",
    "        ax.set_axis_off()\n",
    "        ax.axis((0, 1000, 1000, 0))\n",
    "        plt.show()\n",
    "\n",
    "    table = regionprops_table(label_image=outer_labeled,\n",
    "                            properties=('label',\n",
    "                                        'area',\n",
    "                                        'centroid',\n",
    "                                        'axis_major_length',\n",
    "                                        'axis_minor_length',\n",
    "                                        'eccentricity',\n",
    "                                        'orientation',\n",
    "                                        'slice',))\n",
    "    measurements_outer = pd.DataFrame(table)\n",
    "    \n",
    "    if plot_all == True:\n",
    "        # now do the same for every outer cell:\n",
    "        # plot centroids, measurements, major and minor axis on image to sanity check\n",
    "        regions = regionprops(outer_labeled)\n",
    "\n",
    "        fig, ax = plt.subplots(figsize=(8,8))\n",
    "        ax.imshow(outer_labeled.astype('bool'), cmap='gray')\n",
    "\n",
    "        for props in regions:\n",
    "            y0, x0 = props.centroid\n",
    "            orientation = props.orientation\n",
    "            x1 = x0 + m.cos(orientation) * 0.5 * props.axis_minor_length\n",
    "            y1 = y0 - m.sin(orientation) * 0.5 * props.axis_minor_length\n",
    "            x2 = x0 - m.sin(orientation) * 0.5 * props.axis_major_length\n",
    "            y2 = y0 - m.cos(orientation) * 0.5 * props.axis_major_length\n",
    "\n",
    "            ax.plot((x0, x1), (y0, y1), '-r', linewidth=2.5)\n",
    "            ax.plot((x0, x2), (y0, y2), '-r', linewidth=2.5)\n",
    "            ax.plot(x0, y0, '.g', markersize=10)\n",
    "\n",
    "            minr, minc, maxr, maxc = props.bbox\n",
    "            bx = (minc, maxc, maxc, minc, minc)\n",
    "            by = (minr, minr, maxr, maxr, minr)\n",
    "            ax.plot(bx, by, '-b', linewidth=1.5)\n",
    "\n",
    "        ax.set_axis_off()\n",
    "        ax.axis((0, 1000, 1000, 0))\n",
    "        plt.show()\n",
    "\n",
    "    print(\"re-labeling columns\")\n",
    "\n",
    "    #re-label columns so they are accurate\n",
    "    measurements_outer.columns = ['outer_' + col for col in measurements_outer.columns]\n",
    "    measurements_inner.columns = ['inner_' + col for col in measurements_inner.columns]\n",
    "\n",
    "    #put them in a single dataframe\n",
    "    measurements = pd.concat([measurements_inner,measurements_outer],axis=1)\n",
    "    measurements['file'] = str(file)\n",
    "\n",
    "    # correct all lengths and areas to the right size\n",
    "    factor_length = px_size / 1000 # 10^3 is from nm to µm\n",
    "    factor_area = px_size * px_size / 1000000 # 10^6 is from nm² to µm²\n",
    "    measurements['inner_area'] *= factor_area\n",
    "    measurements['outer_area'] *= factor_area\n",
    "    measurements['inner_axis_minor_length'] *= factor_length\n",
    "    measurements['outer_axis_minor_length'] *= factor_length\n",
    "    measurements['inner_axis_major_length'] *= factor_length\n",
    "    measurements['outer_axis_major_length'] *= factor_length\n",
    "\n",
    "    #add gratio to combined dataframe\n",
    "    measurements['gratio'] = measurements['inner_axis_minor_length']/measurements['outer_axis_minor_length']\n",
    "\n",
    "    print(\"removing gratio>1 cells\")\n",
    "\n",
    "    # remove all cells with gratio >1 (since that is impossible)\n",
    "    index_gratio_greater_than_1 = list(measurements[measurements['gratio'] > 1].index)\n",
    "    index_gratio_greater_than_1 = [index + 1 for index in index_gratio_greater_than_1]\n",
    "    print(f\"Removing cells because gratio >1: {index_gratio_greater_than_1}\")\n",
    "    measurements = measurements[measurements['gratio'] <= 1]\n",
    "\n",
    "    # remove them from the images as well\n",
    "    for id in np.unique(index_gratio_greater_than_1):\n",
    "        inner_labeled[inner_labeled==id]=0\n",
    "        outer_labeled[outer_labeled==id]=0\n",
    "    \n",
    "    print('plotting final segmentation')\n",
    "    # plot final segmentation\n",
    "    # generate 2px outline of inner and outer area\n",
    "    outer_eroded = ndi.binary_erosion(outer_labeled,structure=disk(3))\n",
    "    ero = np.logical_xor(outer_labeled.astype('bool'),outer_eroded)\n",
    "    vmin = 0\n",
    "    vmax = inner_labeled.max()\n",
    "    plt.figure(figsize=(12,12))\n",
    "    plt.title('Final Segmentation')\n",
    "    plt.imshow(np.ma.array(inner_labeled + outer_labeled, mask=(inner_labeled + outer_labeled) == 0), cmap=glasbey,vmin=vmin,vmax=vmax)\n",
    "    plt.imshow(np.ma.array(ero, mask=(ero) == 0), interpolation='None', cmap='gray',)\n",
    "    plt.savefig(path_results + file + \"_labeled_cells.png\",dpi=600)\n",
    "    plt.close()\n",
    "\n",
    "    #add orientation and eccentricity means between fiber and myelin. Also convert orientation to degrees from rad.\n",
    "    measurements['orientation_mean_deg'] = np.degrees((measurements['inner_orientation']+measurements['outer_orientation'])/2)\n",
    "    measurements['eccentricity_mean'] = ((measurements['inner_eccentricity']+measurements['outer_eccentricity'])/2)\n",
    "\n",
    "    measurements.replace([np.inf, -np.inf], np.nan, inplace=True)\n",
    "    if i == 0:\n",
    "        measurements_all = measurements.copy()\n",
    "    \n",
    "    measurements_all = pd.concat([measurements_all,measurements],ignore_index=True)\n",
    "    \n",
    "    # Plot the histogram of g ratios\n",
    "    plt.hist(measurements['gratio'],bins=50, edgecolor='black', color='darkblue', alpha=0.6)\n",
    "\n",
    "    # Customize plot elements\n",
    "    plt.ylabel('Number of cells')\n",
    "    plt.xlabel('G Ratio')\n",
    "    plt.grid(True, linestyle='--', alpha=0.8, which='both')\n",
    "\n",
    "    # Add additional plot elements\n",
    "    plt.axvline(measurements['gratio'].mean(), color='red', linestyle='--', label='Mean')\n",
    "    plt.axvline(measurements['gratio'].median(), color='darkred', linestyle='--', label='Median')\n",
    "    plt.legend()\n",
    "\n",
    "    # Show the plot\n",
    "    plt.tight_layout()\n",
    "    plt.savefig(path_results + file + \"_g_ratio.png\",dpi=500)\n",
    "    plt.close()\n",
    "\n",
    "    tf.imwrite(path_results + file + \"_inner_labeled.tif\", inner_labeled)\n",
    "    tf.imwrite(path_results + file + \"_outer_labeled.tif\", outer_labeled)\n",
    "\n",
    "    if troubleshoot_small_big_gratios == True:\n",
    "        ### troubleshoot 0/1 g ratio artifact\n",
    "        measurements_smallgratio_slices = measurements[measurements['gratio'] < 0.3]\n",
    "        measurements_biggratio_slices = measurements[measurements['gratio'] > 0.9]\n",
    "        slice_list_big = measurements_biggratio_slices['inner_slice'].tolist()\n",
    "        slice_list_small = measurements_smallgratio_slices['inner_slice'].tolist()\n",
    "        p = 5 # p for padding\n",
    "        for yx in slice_list_small:\n",
    "            print('plotting small g ratios')\n",
    "            print(str(yx))\n",
    "            yx = find_numbers(str(yx)) # converts slice object to a list of numbers\n",
    "            outer_eroded = ndi.binary_erosion(outer_labeled[yx[0]-p:yx[1]+p,yx[2]-p:yx[3]+p],structure=disk(1))\n",
    "            ero = np.logical_xor(outer_labeled[yx[0]-p:yx[1]+p,yx[2]-p:yx[3]+p].astype('bool'),outer_eroded)\n",
    "            plt.imshow(np.ma.array(inner_labeled[yx[0]-p:yx[1]+p,yx[2]-p:yx[3]+p] + outer_labeled[yx[0]-p:yx[1]+p,yx[2]-p:yx[3]+p],\n",
    "                                   mask=(inner_labeled[yx[0]-p:yx[1]+p,yx[2]-p:yx[3]+p] + outer_labeled[yx[0]-p:yx[1]+p,yx[2]-p:yx[3]+p]) == 0),\n",
    "                                   cmap=glasbey,\n",
    "                                   vmin=vmin,vmax=vmax)\n",
    "            plt.imshow(np.ma.array(ero, mask=(ero) == 0), interpolation='None', cmap='gray',)\n",
    "            plt.axis('off')\n",
    "            plt.savefig(path_results + \"_gratio_small\" + str(yx) + file + \".png\")\n",
    "            plt.show()\n",
    "\n",
    "        for yx in slice_list_big:\n",
    "            print('plotting large g ratios')\n",
    "            print(str(yx))\n",
    "            yx = find_numbers(str(yx)) # converts slice object to a list of numbers\n",
    "            outer_eroded = ndi.binary_erosion(outer_labeled[yx[0]-p:yx[1]+p,yx[2]-p:yx[3]+p],structure=disk(1))\n",
    "            ero = np.logical_xor(outer_labeled[yx[0]-p:yx[1]+p,yx[2]-p:yx[3]+p].astype('bool'),outer_eroded)\n",
    "            plt.imshow(np.ma.array(inner_labeled[yx[0]-p:yx[1]+p,yx[2]-p:yx[3]+p] + outer_labeled[yx[0]-p:yx[1]+p,yx[2]-p:yx[3]+p],\n",
    "                                   mask=(inner_labeled[yx[0]-p:yx[1]+p,yx[2]-p:yx[3]+p] + outer_labeled[yx[0]-p:yx[1]+p,yx[2]-p:yx[3]+p]) == 0),\n",
    "                                   cmap=glasbey,\n",
    "                                   vmin=vmin,vmax=vmax)\n",
    "            plt.imshow(np.ma.array(ero, mask=(ero) == 0), interpolation='None', cmap='gray',)\n",
    "            plt.axis('off')\n",
    "            plt.savefig(path_results + \"_gratio_big\" + str(yx) + file + \".png\")\n",
    "            plt.show()\n",
    "    i +=1"
   ]
  },
  {
   "cell_type": "markdown",
   "metadata": {},
   "source": [
    "### Save Results to Disk"
   ]
  },
  {
   "cell_type": "code",
   "execution_count": 8,
   "metadata": {},
   "outputs": [],
   "source": [
    "measurements_all.to_csv(path_results + \"SWM_Sample_results.csv\")\n",
    "measurements_all.to_excel(path_results + \"SWM_Sample_results.xlsx\")"
   ]
  },
  {
   "cell_type": "code",
   "execution_count": 9,
   "metadata": {},
   "outputs": [],
   "source": [
    "# Re-Open the results\n",
    "measurements_all = pd.read_csv(path_results + \"SWM_Sample_results.csv\")#,header=(1))\n"
   ]
  },
  {
   "cell_type": "code",
   "execution_count": 10,
   "metadata": {},
   "outputs": [
    {
     "data": {
      "image/png": "[encoded data removed]",
      "text/plain": [
       "<Figure size 640x480 with 1 Axes>"
      ]
     },
     "metadata": {},
     "output_type": "display_data"
    }
   ],
   "source": [
    "# Plot the histogram of g ratios\n",
    "plt.hist(measurements_all['gratio'],bins=50, edgecolor='black', color='darkblue', alpha=0.6)\n",
    "\n",
    "# Customize plot elements\n",
    "plt.ylabel('Number of cells')\n",
    "plt.xlabel('G Ratio')\n",
    "plt.grid(True, linestyle='--', alpha=0.4, which='both')\n",
    "# plt.xticks(np.arange(0, 1, 5))\n",
    "# plt.yticks(np.arange(0, 21, 2))\n",
    "\n",
    "# Add additional plot elements\n",
    "plt.axvline(measurements_all['gratio'].mean(), color='red', linestyle='--', label='Mean')\n",
    "plt.axvline(measurements_all['gratio'].median(), color='darkred', linestyle='--', label='Median')\n",
    "plt.legend()\n",
    "\n",
    "# Show the plot\n",
    "plt.tight_layout()\n",
    "plt.savefig(path_results + \"SWM_Sample_results_g_ratio.png\",dpi=500)\n",
    "plt.show()"
   ]
  },
  {
   "cell_type": "code",
   "execution_count": 11,
   "metadata": {},
   "outputs": [
    {
     "data": {
      "image/png": "[encoded data removed]",
      "text/plain": [
       "<Figure size 640x480 with 1 Axes>"
      ]
     },
     "metadata": {},
     "output_type": "display_data"
    }
   ],
   "source": [
    "# Plot the histogram of eccentricity\n",
    "plt.hist(measurements_all['inner_eccentricity'],bins=50, edgecolor='black', color='darkblue', alpha=0.6)\n",
    "\n",
    "# Customize plot elements\n",
    "plt.ylabel('Number of cells')\n",
    "plt.xlabel('Inner eccentricity')\n",
    "plt.grid(True, linestyle='--', alpha=0.4, which='both')\n",
    "# plt.xticks(np.arange(0, 1, 5))\n",
    "# plt.yticks(np.arange(0, 21, 2))\n",
    "\n",
    "# Add additional plot elements\n",
    "plt.axvline(measurements_all['inner_eccentricity'].mean(), color='red', linestyle='--', label='Mean')\n",
    "plt.axvline(measurements_all['inner_eccentricity'].median(), color='darkred', linestyle='--', label='Median')\n",
    "plt.legend()\n",
    "\n",
    "# Show the plot\n",
    "plt.tight_layout()\n",
    "plt.savefig(path_results + \"SWM_Sample_results_eccentricity.png\",dpi=500)\n",
    "plt.show()"
   ]
  },
  {
   "cell_type": "code",
   "execution_count": 12,
   "metadata": {},
   "outputs": [
    {
     "data": {
      "image/png": "[encoded data removed]",
      "text/plain": [
       "<Figure size 640x480 with 1 Axes>"
      ]
     },
     "metadata": {},
     "output_type": "display_data"
    }
   ],
   "source": [
    "# Plot the histogram of g ratios\n",
    "plt.hist(measurements_all['outer_eccentricity'],bins=50, edgecolor='black', color='darkblue', alpha=0.6)\n",
    "\n",
    "# Customize plot elements\n",
    "plt.ylabel('Number of cells')\n",
    "plt.xlabel('Outer Eccentricity')\n",
    "plt.grid(True, linestyle='--', alpha=0.4, which='both')\n",
    "# plt.xticks(np.arange(0, 1, 5))\n",
    "# plt.yticks(np.arange(0, 21, 2))\n",
    "\n",
    "# Add additional plot elements\n",
    "plt.axvline(measurements_all['outer_eccentricity'].mean(), color='red', linestyle='--', label='Mean')\n",
    "plt.axvline(measurements_all['outer_eccentricity'].median(), color='darkred', linestyle='--', label='Median')\n",
    "plt.legend()\n",
    "\n",
    "# Show the plot\n",
    "plt.tight_layout()\n",
    "plt.savefig(path_results + \"SWM_Sample_results_eccentricity.png\",dpi=500)\n",
    "plt.show()"
   ]
  },
  {
   "cell_type": "code",
   "execution_count": 13,
   "metadata": {},
   "outputs": [
    {
     "data": {
      "image/png": "[encoded data removed]",
      "text/plain": [
       "<Figure size 640x480 with 1 Axes>"
      ]
     },
     "metadata": {},
     "output_type": "display_data"
    }
   ],
   "source": [
    "# Plot the histogram of area\n",
    "plt.hist(measurements_all['inner_area'],bins=1500, edgecolor='black', color='darkblue', alpha=0.6)\n",
    "# Customize plot elements\n",
    "plt.ylabel('Number of cells')\n",
    "plt.xlabel('Fiber Area [µm²]')\n",
    "plt.grid(True, linestyle='--', alpha=0.4, which='both')\n",
    "plt.xscale('log')\n",
    "plt.xticks([0.1,0.25,0.5,1,2,5],[0.1,0.25,0.5,1,2,5])\n",
    "# plt.yticks(np.arange(0, 21, 2))\n",
    "\n",
    "# Add additional plot elements\n",
    "plt.axvline((measurements_all['inner_area']).mean(), color='red', linestyle='--', label='Mean')\n",
    "plt.axvline((measurements_all['inner_area']).median(), color='darkred', linestyle='--', label='Median')\n",
    "plt.legend()\n",
    "\n",
    "# Show the plot\n",
    "plt.tight_layout()\n",
    "plt.savefig(path_results + \"SWM_Sample_results_fiber_area.png\",dpi=500)\n",
    "plt.show()"
   ]
  },
  {
   "cell_type": "code",
   "execution_count": 14,
   "metadata": {},
   "outputs": [
    {
     "data": {
      "image/png": "[encoded data removed]",
      "text/plain": [
       "<Figure size 640x480 with 1 Axes>"
      ]
     },
     "metadata": {},
     "output_type": "display_data"
    }
   ],
   "source": [
    "# Plot the histogram of minor axis length\n",
    "plt.hist((measurements_all['inner_axis_minor_length']), bins=200, edgecolor='black', color='darkblue', alpha=0.6)\n",
    "# Customize plot elements\n",
    "plt.ylabel('Number of cells')\n",
    "plt.xlabel('Smallest fiber diameter [µm]')\n",
    "plt.grid(True, linestyle='--', alpha=0.4, which='both')\n",
    "plt.xscale('log')  # Set logarithmic scale on the x-axis\n",
    "plt.xticks([0.25,0.5,1,2,3,4,5],[0.25,0.5,1,2,3,4,5])  # Set the x-axis tick positions and labels\n",
    "\n",
    "# Add additional plot elements\n",
    "plt.axvline((measurements_all['inner_axis_minor_length']).mean(), color='red', linestyle='--', label='Mean')\n",
    "plt.axvline((measurements_all['inner_axis_minor_length']).median(), color='darkred', linestyle='--', label='Median')\n",
    "plt.legend()\n",
    "\n",
    "# Show the plot\n",
    "plt.tight_layout()\n",
    "plt.savefig(path_results + \"SWM_Sample_results_fiber_diameter.png\", dpi=500)\n",
    "plt.show()\n"
   ]
  },
  {
   "cell_type": "code",
   "execution_count": 15,
   "metadata": {},
   "outputs": [
    {
     "data": {
      "application/vnd.plotly.v1+json": {
       "config": {
        "plotlyServerURL": "https://plot.ly"
       },
       "data": [
        {
         "hovertemplate": "eccentricity_mean=%{r}<br>orientation_mean_deg=%{theta}<br>inner_axis_minor_length=%{marker.color}<extra></extra>",
         "legendgroup": "",
         "marker": {
          "color": [
           0.6232660532320963,
           0.5095468840351871,
           0.6598995882651318,
           0.5389675423678675,
           0.3518267313719371,
           0.5227707933998864,
           0.443341962739035,
           0.4476419160065562,
           0.4129825118696702,
           1.39254408944216,
           0.353113968893703,
           0.351891578679479,
           0.4031256371735927,
           0.5041026433602896,
           0.6192409703985907,
           0.4650469452373446,
           0.537661820040748,
           0.3418073014716615,
           1.0549997424091748,
           0.7888430454863731,
           0.384918490212941,
           0.3187611256633683,
           0.7789305309603669,
           0.522995114424652,
           0.6119843010331357,
           0.890948348786546,
           0.3717429106964944,
           0.7882658851529546,
           0.5479786560179402,
           0.4145730149692347,
           0.5370892970417268,
           0.3462983738232791,
           0.3425850732552805,
           1.3585502014894666,
           0.5668967604541381,
           0.410288913534412,
           0.4011720726910081,
           0.3298584847615969,
           1.4847649373355327,
           0.8838359296704709,
           0.3818578098865992,
           0.5036865084879564,
           0.6661785313364477,
           0.592660115872917,
           0.6044573110875806,
           0.4390679068280769,
           0.3145502101764086,
           0.8419938145734367,
           0.3867584026858194,
           0.3084796188717486,
           0.9537662819065472,
           0.7928504254430956,
           0.5103690520678291,
           0.582424013742039,
           0.5250273915048854,
           0.4454157819965397,
           0.4384145801597375,
           0.3529262882287022,
           0.3187611256633683,
           0.716256629015461,
           0.4128666256453674,
           0.8491147515208778,
           0.5756377527209784,
           0.5134762888283367,
           0.5337845688963219,
           0.3406786727177727,
           0.3249585442297859,
           0.389233971591206,
           0.3144366557771416,
           0.5135039212843147,
           0.4825616936279903,
           0.3917913443928038,
           0.4331398954955334,
           0.3962194043364213,
           0.5634444362501513,
           0.7041205960247172,
           0.7258522402594083,
           0.5489964313915826,
           0.6232660532320963,
           0.5095468840351871,
           0.6598995882651318,
           0.5389675423678675,
           0.3518267313719371,
           0.5227707933998864,
           0.443341962739035,
           0.4476419160065562,
           0.4129825118696702,
           1.39254408944216,
           0.353113968893703,
           0.351891578679479,
           0.4031256371735927,
           0.5041026433602896,
           0.6192409703985907,
           0.4650469452373446,
           0.537661820040748,
           0.3418073014716615,
           1.0549997424091748,
           0.7888430454863731,
           0.384918490212941,
           0.3187611256633683,
           0.7789305309603669,
           0.522995114424652,
           0.6119843010331357,
           0.890948348786546,
           0.3717429106964944,
           0.7882658851529546,
           0.5479786560179402,
           0.4145730149692347,
           0.5370892970417268,
           0.3462983738232791,
           0.3425850732552805,
           1.3585502014894666,
           0.5668967604541381,
           0.410288913534412,
           0.4011720726910081,
           0.3298584847615969,
           1.4847649373355327,
           0.8838359296704709,
           0.3818578098865992,
           0.5036865084879564,
           0.6661785313364477,
           0.592660115872917,
           0.6044573110875806,
           0.4390679068280769,
           0.3145502101764086,
           0.8419938145734367,
           0.3867584026858194,
           0.3084796188717486,
           0.9537662819065472,
           0.7928504254430956,
           0.5103690520678291,
           0.582424013742039,
           0.5250273915048854,
           0.4454157819965397,
           0.4384145801597375,
           0.3529262882287022,
           0.3187611256633683,
           0.716256629015461,
           0.4128666256453674,
           0.8491147515208778,
           0.5756377527209784,
           0.5134762888283367,
           0.5337845688963219,
           0.3406786727177727,
           0.3249585442297859,
           0.389233971591206,
           0.3144366557771416,
           0.5135039212843147,
           0.4825616936279903,
           0.3917913443928038,
           0.4331398954955334,
           0.3962194043364213,
           0.5634444362501513,
           0.7041205960247172,
           0.7258522402594083,
           0.5489964313915826
          ],
          "coloraxis": "coloraxis",
          "opacity": 1,
          "size": 4,
          "symbol": "circle"
         },
         "mode": "markers",
         "name": "",
         "r": [
          0.7405668394052192,
          0.4982226851374887,
          0.6168489348392825,
          0.6747105320707152,
          0.2594855103879942,
          0.7349224674012476,
          0.7693487360501683,
          0.927581546512932,
          0.7716480245332591,
          0.6854074344602803,
          0.5731177890934862,
          0.3992337546158325,
          0.7276247947997345,
          0.6854000197484644,
          0.6131805927670735,
          0.8798482977518554,
          0.7903357496102764,
          0.4886544499863401,
          0.6706260548286864,
          0.5914745525870846,
          0.4398132580992295,
          0.4475358124803925,
          0.8983400400085437,
          0.4383415636121739,
          0.6657436954051651,
          0.7192157029776687,
          0.5118054476154099,
          0.674169757167136,
          0.6353114513364742,
          0.8637165588065189,
          0.9192758031502252,
          0.6429286498252,
          0.8309545371414662,
          0.6706809620848205,
          0.7137570848786622,
          0.6362527459122266,
          0.6056537372588058,
          0.7474283875782912,
          0.7440001109272483,
          0.5540269434368806,
          0.7617344522349527,
          0.8993443746804791,
          0.6564990974932641,
          0.7233500352765379,
          0.8789529353431497,
          0.7204597435857938,
          0.5561687103094609,
          0.8687589115669352,
          0.6940916032539826,
          0.4734283821830541,
          0.9412888115494986,
          0.7138367189118631,
          0.4833539459094517,
          0.9125438987232132,
          0.5416362583340856,
          0.7027428942682176,
          0.7367562831576207,
          0.7421660066274143,
          0.3708861382381431,
          0.9028196176066656,
          0.6486193191593467,
          0.6930977718513349,
          0.7676788029357213,
          0.6730430068055147,
          0.8509429681361503,
          0.7136427920630575,
          0.6331766778197343,
          0.6658967717878359,
          0.489980703163446,
          0.6139440197599811,
          0.7193250561952236,
          0.92160271750643,
          0.6313602184157876,
          0.5411908341239007,
          0.941723325349474,
          0.714430212537444,
          0.9125713800833516,
          0.7816320754565388,
          0.7405668394052192,
          0.4982226851374887,
          0.6168489348392825,
          0.6747105320707152,
          0.2594855103879942,
          0.7349224674012476,
          0.7693487360501683,
          0.927581546512932,
          0.7716480245332591,
          0.6854074344602803,
          0.5731177890934862,
          0.3992337546158325,
          0.7276247947997345,
          0.6854000197484644,
          0.6131805927670735,
          0.8798482977518554,
          0.7903357496102764,
          0.4886544499863401,
          0.6706260548286864,
          0.5914745525870846,
          0.4398132580992295,
          0.4475358124803925,
          0.8983400400085437,
          0.4383415636121739,
          0.6657436954051651,
          0.7192157029776687,
          0.5118054476154099,
          0.674169757167136,
          0.6353114513364742,
          0.8637165588065189,
          0.9192758031502252,
          0.6429286498252,
          0.8309545371414662,
          0.6706809620848205,
          0.7137570848786622,
          0.6362527459122266,
          0.6056537372588058,
          0.7474283875782912,
          0.7440001109272483,
          0.5540269434368806,
          0.7617344522349527,
          0.8993443746804791,
          0.6564990974932641,
          0.7233500352765379,
          0.8789529353431497,
          0.7204597435857938,
          0.5561687103094609,
          0.8687589115669352,
          0.6940916032539826,
          0.4734283821830541,
          0.9412888115494986,
          0.7138367189118631,
          0.4833539459094517,
          0.9125438987232132,
          0.5416362583340856,
          0.7027428942682176,
          0.7367562831576207,
          0.7421660066274143,
          0.3708861382381431,
          0.9028196176066656,
          0.6486193191593467,
          0.6930977718513349,
          0.7676788029357213,
          0.6730430068055147,
          0.8509429681361503,
          0.7136427920630575,
          0.6331766778197343,
          0.6658967717878359,
          0.489980703163446,
          0.6139440197599811,
          0.7193250561952236,
          0.92160271750643,
          0.6313602184157876,
          0.5411908341239007,
          0.941723325349474,
          0.714430212537444,
          0.9125713800833516,
          0.7816320754565388
         ],
         "showlegend": false,
         "subplot": "polar",
         "theta": [
          8.708713790294714,
          55.27295189182876,
          -34.5147624031155,
          40.16767991089159,
          11.914311378030922,
          10.931575337978035,
          62.23789039764281,
          70.95271236852115,
          -33.69658960924329,
          49.61655052266127,
          68.3957527568516,
          20.18668887751426,
          1.8588372097726304,
          6.5589821297181325,
          83.54014020011377,
          79.17864288088352,
          57.25732055663777,
          9.012060510698651,
          -41.28221778123495,
          77.90986566568765,
          -58.31127337784507,
          15.520035320316564,
          53.71803449041676,
          50.9180910671318,
          45.08073633701672,
          28.86106331546674,
          58.599463736222646,
          21.857897896542266,
          32.59063291575566,
          21.32225393659529,
          60.53835937484985,
          -12.65998186224827,
          -65.87668825033508,
          -2.020103184164588,
          -20.990259940662423,
          -62.79396683840267,
          -46.32854895477528,
          39.63195974406649,
          32.93455836065309,
          35.99749327600222,
          54.32667644856557,
          57.2887182843422,
          84.06074888533018,
          53.6401471807004,
          73.89253044231289,
          -6.772484366907852,
          60.16512582015071,
          35.8584255469298,
          -27.31101309166541,
          49.43217090743864,
          58.75604594300985,
          68.73749991269013,
          10.667169138239094,
          52.4123764109131,
          -28.90410187531192,
          28.548838583591724,
          55.08915583229357,
          70.62326276398262,
          33.28262902432123,
          58.929218897024974,
          76.74851506956666,
          45.265668902383744,
          22.53298213624899,
          -11.19699954063053,
          3.654112737402607,
          41.9855809625633,
          17.231379137388707,
          37.01346603067835,
          37.31128717023785,
          -51.43601569768534,
          37.76018750985194,
          59.53082498064541,
          82.13353747077822,
          54.6875074387201,
          79.69789097606784,
          15.056502186949194,
          57.85596062660501,
          -0.5260539271837325,
          8.708713790294714,
          55.27295189182876,
          -34.5147624031155,
          40.16767991089159,
          11.914311378030922,
          10.931575337978035,
          62.23789039764281,
          70.95271236852115,
          -33.69658960924329,
          49.61655052266127,
          68.3957527568516,
          20.18668887751426,
          1.8588372097726304,
          6.5589821297181325,
          83.54014020011377,
          79.17864288088352,
          57.25732055663777,
          9.012060510698651,
          -41.28221778123495,
          77.90986566568765,
          -58.31127337784507,
          15.520035320316564,
          53.71803449041676,
          50.9180910671318,
          45.08073633701672,
          28.86106331546674,
          58.599463736222646,
          21.857897896542266,
          32.59063291575566,
          21.32225393659529,
          60.53835937484985,
          -12.65998186224827,
          -65.87668825033508,
          -2.020103184164588,
          -20.990259940662423,
          -62.79396683840267,
          -46.32854895477528,
          39.63195974406649,
          32.93455836065309,
          35.99749327600222,
          54.32667644856557,
          57.2887182843422,
          84.06074888533018,
          53.6401471807004,
          73.89253044231289,
          -6.772484366907852,
          60.16512582015071,
          35.8584255469298,
          -27.31101309166541,
          49.43217090743864,
          58.75604594300985,
          68.73749991269013,
          10.667169138239094,
          52.4123764109131,
          -28.90410187531192,
          28.548838583591724,
          55.08915583229357,
          70.62326276398262,
          33.28262902432123,
          58.929218897024974,
          76.74851506956666,
          45.265668902383744,
          22.53298213624899,
          -11.19699954063053,
          3.654112737402607,
          41.9855809625633,
          17.231379137388707,
          37.01346603067835,
          37.31128717023785,
          -51.43601569768534,
          37.76018750985194,
          59.53082498064541,
          82.13353747077822,
          54.6875074387201,
          79.69789097606784,
          15.056502186949194,
          57.85596062660501,
          -0.5260539271837325
         ],
         "type": "scatterpolar"
        }
       ],
       "layout": {
        "coloraxis": {
         "cmax": 3,
         "cmin": 0,
         "colorbar": {
          "title": {
           "text": "Fiber diameter (minor)"
          }
         },
         "colorscale": [
          [
           0,
           "#0d0887"
          ],
          [
           0.1111111111111111,
           "#46039f"
          ],
          [
           0.2222222222222222,
           "#7201a8"
          ],
          [
           0.3333333333333333,
           "#9c179e"
          ],
          [
           0.4444444444444444,
           "#bd3786"
          ],
          [
           0.5555555555555556,
           "#d8576b"
          ],
          [
           0.6666666666666666,
           "#ed7953"
          ],
          [
           0.7777777777777778,
           "#fb9f3a"
          ],
          [
           0.8888888888888888,
           "#fdca26"
          ],
          [
           1,
           "#f0f921"
          ]
         ]
        },
        "height": 600,
        "legend": {
         "tracegroupgap": 0
        },
        "polar": {
         "angularaxis": {
          "direction": "clockwise",
          "rotation": 90
         },
         "domain": {
          "x": [
           0,
           1
          ],
          "y": [
           0,
           1
          ]
         },
         "radialaxis": {
          "range": [
           0,
           1
          ]
         },
         "sector": [
          0,
          180
         ]
        },
        "template": {
         "data": {
          "bar": [
           {
            "error_x": {
             "color": "#f2f5fa"
            },
            "error_y": {
             "color": "#f2f5fa"
            },
            "marker": {
             "line": {
              "color": "rgb(17,17,17)",
              "width": 0.5
             },
             "pattern": {
              "fillmode": "overlay",
              "size": 10,
              "solidity": 0.2
             }
            },
            "type": "bar"
           }
          ],
          "barpolar": [
           {
            "marker": {
             "line": {
              "color": "rgb(17,17,17)",
              "width": 0.5
             },
             "pattern": {
              "fillmode": "overlay",
              "size": 10,
              "solidity": 0.2
             }
            },
            "type": "barpolar"
           }
          ],
          "carpet": [
           {
            "aaxis": {
             "endlinecolor": "#A2B1C6",
             "gridcolor": "#506784",
             "linecolor": "#506784",
             "minorgridcolor": "#506784",
             "startlinecolor": "#A2B1C6"
            },
            "baxis": {
             "endlinecolor": "#A2B1C6",
             "gridcolor": "#506784",
             "linecolor": "#506784",
             "minorgridcolor": "#506784",
             "startlinecolor": "#A2B1C6"
            },
            "type": "carpet"
           }
          ],
          "choropleth": [
           {
            "colorbar": {
             "outlinewidth": 0,
             "ticks": ""
            },
            "type": "choropleth"
           }
          ],
          "contour": [
           {
            "colorbar": {
             "outlinewidth": 0,
             "ticks": ""
            },
            "colorscale": [
             [
              0,
              "#0d0887"
             ],
             [
              0.1111111111111111,
              "#46039f"
             ],
             [
              0.2222222222222222,
              "#7201a8"
             ],
             [
              0.3333333333333333,
              "#9c179e"
             ],
             [
              0.4444444444444444,
              "#bd3786"
             ],
             [
              0.5555555555555556,
              "#d8576b"
             ],
             [
              0.6666666666666666,
              "#ed7953"
             ],
             [
              0.7777777777777778,
              "#fb9f3a"
             ],
             [
              0.8888888888888888,
              "#fdca26"
             ],
             [
              1,
              "#f0f921"
             ]
            ],
            "type": "contour"
           }
          ],
          "contourcarpet": [
           {
            "colorbar": {
             "outlinewidth": 0,
             "ticks": ""
            },
            "type": "contourcarpet"
           }
          ],
          "heatmap": [
           {
            "colorbar": {
             "outlinewidth": 0,
             "ticks": ""
            },
            "colorscale": [
             [
              0,
              "#0d0887"
             ],
             [
              0.1111111111111111,
              "#46039f"
             ],
             [
              0.2222222222222222,
              "#7201a8"
             ],
             [
              0.3333333333333333,
              "#9c179e"
             ],
             [
              0.4444444444444444,
              "#bd3786"
             ],
             [
              0.5555555555555556,
              "#d8576b"
             ],
             [
              0.6666666666666666,
              "#ed7953"
             ],
             [
              0.7777777777777778,
              "#fb9f3a"
             ],
             [
              0.8888888888888888,
              "#fdca26"
             ],
             [
              1,
              "#f0f921"
             ]
            ],
            "type": "heatmap"
           }
          ],
          "heatmapgl": [
           {
            "colorbar": {
             "outlinewidth": 0,
             "ticks": ""
            },
            "colorscale": [
             [
              0,
              "#0d0887"
             ],
             [
              0.1111111111111111,
              "#46039f"
             ],
             [
              0.2222222222222222,
              "#7201a8"
             ],
             [
              0.3333333333333333,
              "#9c179e"
             ],
             [
              0.4444444444444444,
              "#bd3786"
             ],
             [
              0.5555555555555556,
              "#d8576b"
             ],
             [
              0.6666666666666666,
              "#ed7953"
             ],
             [
              0.7777777777777778,
              "#fb9f3a"
             ],
             [
              0.8888888888888888,
              "#fdca26"
             ],
             [
              1,
              "#f0f921"
             ]
            ],
            "type": "heatmapgl"
           }
          ],
          "histogram": [
           {
            "marker": {
             "pattern": {
              "fillmode": "overlay",
              "size": 10,
              "solidity": 0.2
             }
            },
            "type": "histogram"
           }
          ],
          "histogram2d": [
           {
            "colorbar": {
             "outlinewidth": 0,
             "ticks": ""
            },
            "colorscale": [
             [
              0,
              "#0d0887"
             ],
             [
              0.1111111111111111,
              "#46039f"
             ],
             [
              0.2222222222222222,
              "#7201a8"
             ],
             [
              0.3333333333333333,
              "#9c179e"
             ],
             [
              0.4444444444444444,
              "#bd3786"
             ],
             [
              0.5555555555555556,
              "#d8576b"
             ],
             [
              0.6666666666666666,
              "#ed7953"
             ],
             [
              0.7777777777777778,
              "#fb9f3a"
             ],
             [
              0.8888888888888888,
              "#fdca26"
             ],
             [
              1,
              "#f0f921"
             ]
            ],
            "type": "histogram2d"
           }
          ],
          "histogram2dcontour": [
           {
            "colorbar": {
             "outlinewidth": 0,
             "ticks": ""
            },
            "colorscale": [
             [
              0,
              "#0d0887"
             ],
             [
              0.1111111111111111,
              "#46039f"
             ],
             [
              0.2222222222222222,
              "#7201a8"
             ],
             [
              0.3333333333333333,
              "#9c179e"
             ],
             [
              0.4444444444444444,
              "#bd3786"
             ],
             [
              0.5555555555555556,
              "#d8576b"
             ],
             [
              0.6666666666666666,
              "#ed7953"
             ],
             [
              0.7777777777777778,
              "#fb9f3a"
             ],
             [
              0.8888888888888888,
              "#fdca26"
             ],
             [
              1,
              "#f0f921"
             ]
            ],
            "type": "histogram2dcontour"
           }
          ],
          "mesh3d": [
           {
            "colorbar": {
             "outlinewidth": 0,
             "ticks": ""
            },
            "type": "mesh3d"
           }
          ],
          "parcoords": [
           {
            "line": {
             "colorbar": {
              "outlinewidth": 0,
              "ticks": ""
             }
            },
            "type": "parcoords"
           }
          ],
          "pie": [
           {
            "automargin": true,
            "type": "pie"
           }
          ],
          "scatter": [
           {
            "marker": {
             "line": {
              "color": "#283442"
             }
            },
            "type": "scatter"
           }
          ],
          "scatter3d": [
           {
            "line": {
             "colorbar": {
              "outlinewidth": 0,
              "ticks": ""
             }
            },
            "marker": {
             "colorbar": {
              "outlinewidth": 0,
              "ticks": ""
             }
            },
            "type": "scatter3d"
           }
          ],
          "scattercarpet": [
           {
            "marker": {
             "colorbar": {
              "outlinewidth": 0,
              "ticks": ""
             }
            },
            "type": "scattercarpet"
           }
          ],
          "scattergeo": [
           {
            "marker": {
             "colorbar": {
              "outlinewidth": 0,
              "ticks": ""
             }
            },
            "type": "scattergeo"
           }
          ],
          "scattergl": [
           {
            "marker": {
             "line": {
              "color": "#283442"
             }
            },
            "type": "scattergl"
           }
          ],
          "scattermapbox": [
           {
            "marker": {
             "colorbar": {
              "outlinewidth": 0,
              "ticks": ""
             }
            },
            "type": "scattermapbox"
           }
          ],
          "scatterpolar": [
           {
            "marker": {
             "colorbar": {
              "outlinewidth": 0,
              "ticks": ""
             }
            },
            "type": "scatterpolar"
           }
          ],
          "scatterpolargl": [
           {
            "marker": {
             "colorbar": {
              "outlinewidth": 0,
              "ticks": ""
             }
            },
            "type": "scatterpolargl"
           }
          ],
          "scatterternary": [
           {
            "marker": {
             "colorbar": {
              "outlinewidth": 0,
              "ticks": ""
             }
            },
            "type": "scatterternary"
           }
          ],
          "surface": [
           {
            "colorbar": {
             "outlinewidth": 0,
             "ticks": ""
            },
            "colorscale": [
             [
              0,
              "#0d0887"
             ],
             [
              0.1111111111111111,
              "#46039f"
             ],
             [
              0.2222222222222222,
              "#7201a8"
             ],
             [
              0.3333333333333333,
              "#9c179e"
             ],
             [
              0.4444444444444444,
              "#bd3786"
             ],
             [
              0.5555555555555556,
              "#d8576b"
             ],
             [
              0.6666666666666666,
              "#ed7953"
             ],
             [
              0.7777777777777778,
              "#fb9f3a"
             ],
             [
              0.8888888888888888,
              "#fdca26"
             ],
             [
              1,
              "#f0f921"
             ]
            ],
            "type": "surface"
           }
          ],
          "table": [
           {
            "cells": {
             "fill": {
              "color": "#506784"
             },
             "line": {
              "color": "rgb(17,17,17)"
             }
            },
            "header": {
             "fill": {
              "color": "#2a3f5f"
             },
             "line": {
              "color": "rgb(17,17,17)"
             }
            },
            "type": "table"
           }
          ]
         },
         "layout": {
          "annotationdefaults": {
           "arrowcolor": "#f2f5fa",
           "arrowhead": 0,
           "arrowwidth": 1
          },
          "autotypenumbers": "strict",
          "coloraxis": {
           "colorbar": {
            "outlinewidth": 0,
            "ticks": ""
           }
          },
          "colorscale": {
           "diverging": [
            [
             0,
             "#8e0152"
            ],
            [
             0.1,
             "#c51b7d"
            ],
            [
             0.2,
             "#de77ae"
            ],
            [
             0.3,
             "#f1b6da"
            ],
            [
             0.4,
             "#fde0ef"
            ],
            [
             0.5,
             "#f7f7f7"
            ],
            [
             0.6,
             "#e6f5d0"
            ],
            [
             0.7,
             "#b8e186"
            ],
            [
             0.8,
             "#7fbc41"
            ],
            [
             0.9,
             "#4d9221"
            ],
            [
             1,
             "#276419"
            ]
           ],
           "sequential": [
            [
             0,
             "#0d0887"
            ],
            [
             0.1111111111111111,
             "#46039f"
            ],
            [
             0.2222222222222222,
             "#7201a8"
            ],
            [
             0.3333333333333333,
             "#9c179e"
            ],
            [
             0.4444444444444444,
             "#bd3786"
            ],
            [
             0.5555555555555556,
             "#d8576b"
            ],
            [
             0.6666666666666666,
             "#ed7953"
            ],
            [
             0.7777777777777778,
             "#fb9f3a"
            ],
            [
             0.8888888888888888,
             "#fdca26"
            ],
            [
             1,
             "#f0f921"
            ]
           ],
           "sequentialminus": [
            [
             0,
             "#0d0887"
            ],
            [
             0.1111111111111111,
             "#46039f"
            ],
            [
             0.2222222222222222,
             "#7201a8"
            ],
            [
             0.3333333333333333,
             "#9c179e"
            ],
            [
             0.4444444444444444,
             "#bd3786"
            ],
            [
             0.5555555555555556,
             "#d8576b"
            ],
            [
             0.6666666666666666,
             "#ed7953"
            ],
            [
             0.7777777777777778,
             "#fb9f3a"
            ],
            [
             0.8888888888888888,
             "#fdca26"
            ],
            [
             1,
             "#f0f921"
            ]
           ]
          },
          "colorway": [
           "#636efa",
           "#EF553B",
           "#00cc96",
           "#ab63fa",
           "#FFA15A",
           "#19d3f3",
           "#FF6692",
           "#B6E880",
           "#FF97FF",
           "#FECB52"
          ],
          "font": {
           "color": "#f2f5fa"
          },
          "geo": {
           "bgcolor": "rgb(17,17,17)",
           "lakecolor": "rgb(17,17,17)",
           "landcolor": "rgb(17,17,17)",
           "showlakes": true,
           "showland": true,
           "subunitcolor": "#506784"
          },
          "hoverlabel": {
           "align": "left"
          },
          "hovermode": "closest",
          "mapbox": {
           "style": "dark"
          },
          "paper_bgcolor": "rgb(17,17,17)",
          "plot_bgcolor": "rgb(17,17,17)",
          "polar": {
           "angularaxis": {
            "gridcolor": "#506784",
            "linecolor": "#506784",
            "ticks": ""
           },
           "bgcolor": "rgb(17,17,17)",
           "radialaxis": {
            "gridcolor": "#506784",
            "linecolor": "#506784",
            "ticks": ""
           }
          },
          "scene": {
           "xaxis": {
            "backgroundcolor": "rgb(17,17,17)",
            "gridcolor": "#506784",
            "gridwidth": 2,
            "linecolor": "#506784",
            "showbackground": true,
            "ticks": "",
            "zerolinecolor": "#C8D4E3"
           },
           "yaxis": {
            "backgroundcolor": "rgb(17,17,17)",
            "gridcolor": "#506784",
            "gridwidth": 2,
            "linecolor": "#506784",
            "showbackground": true,
            "ticks": "",
            "zerolinecolor": "#C8D4E3"
           },
           "zaxis": {
            "backgroundcolor": "rgb(17,17,17)",
            "gridcolor": "#506784",
            "gridwidth": 2,
            "linecolor": "#506784",
            "showbackground": true,
            "ticks": "",
            "zerolinecolor": "#C8D4E3"
           }
          },
          "shapedefaults": {
           "line": {
            "color": "#f2f5fa"
           }
          },
          "sliderdefaults": {
           "bgcolor": "#C8D4E3",
           "bordercolor": "rgb(17,17,17)",
           "borderwidth": 1,
           "tickwidth": 0
          },
          "ternary": {
           "aaxis": {
            "gridcolor": "#506784",
            "linecolor": "#506784",
            "ticks": ""
           },
           "baxis": {
            "gridcolor": "#506784",
            "linecolor": "#506784",
            "ticks": ""
           },
           "bgcolor": "rgb(17,17,17)",
           "caxis": {
            "gridcolor": "#506784",
            "linecolor": "#506784",
            "ticks": ""
           }
          },
          "title": {
           "x": 0.05
          },
          "updatemenudefaults": {
           "bgcolor": "#506784",
           "borderwidth": 0
          },
          "xaxis": {
           "automargin": true,
           "gridcolor": "#283442",
           "linecolor": "#506784",
           "ticks": "",
           "title": {
            "standoff": 15
           },
           "zerolinecolor": "#283442",
           "zerolinewidth": 2
          },
          "yaxis": {
           "automargin": true,
           "gridcolor": "#283442",
           "linecolor": "#506784",
           "ticks": "",
           "title": {
            "standoff": 15
           },
           "zerolinecolor": "#283442",
           "zerolinewidth": 2
          }
         }
        },
        "title": {
         "text": "Orientation (radial axis), Eccentricity (angular displacement), fiber diameter (color)"
        },
        "width": 1200
       }
      }
     },
     "metadata": {},
     "output_type": "display_data"
    }
   ],
   "source": [
    "# plot a polar scatterplot. In this scatterplot, direction (theta) is determined by orientation, \n",
    "# displacement (r) is determined by eccentricity\n",
    "# color is determined by the g ratio, but can be switched to e.g. outer area (commented out line)\n",
    "\n",
    "fig = px.scatter_polar(measurements_all, \n",
    "                    r=\"eccentricity_mean\", \n",
    "                    theta=\"orientation_mean_deg\", \n",
    "                    # color=measurements_all[\"gratio\"],\n",
    "                    color=measurements_all[\"inner_axis_minor_length\"],\n",
    "                    template=\"plotly_dark\",\n",
    "                    range_color=(0,3),\n",
    "                    range_theta=(0,180),\n",
    "                    range_r=(0,1),\n",
    "                    title=\"Orientation (radial axis), Eccentricity (angular displacement), fiber diameter (color)\")\n",
    "fig.update_layout(width=1200,height=600)\n",
    "fig.update_traces(marker=dict(size=4))\n",
    "fig.update_traces(marker=dict(opacity=1))\n",
    "fig.update_coloraxes(colorbar_title=\"Fiber diameter (minor)\")\n",
    "# pio.write_image(fig, path_results + \"_Orientation_vs_area_filtered.png\")\n",
    "fig.show()"
   ]
  },
  {
   "cell_type": "code",
   "execution_count": 16,
   "metadata": {},
   "outputs": [
    {
     "data": {
      "application/vnd.plotly.v1+json": {
       "config": {
        "plotlyServerURL": "https://plot.ly"
       },
       "data": [
        {
         "hovertemplate": "eccentricity_mean=%{r}<br>orientation_mean_deg=%{theta}<br>gratio=%{marker.color}<extra></extra>",
         "legendgroup": "",
         "marker": {
          "color": [
           0.5773632361155193,
           0.6384011807837298,
           0.5544368072289134,
           0.4063804292941461,
           0.5175783571430614,
           0.4567973976869511,
           0.5967527192924151,
           0.526986068306207,
           0.5584216659543187,
           0.5557353964379681,
           0.4834049110028597,
           0.6064039298956896,
           0.6054290216720781,
           0.6197846472529199,
           0.6150669687348325,
           0.3504421392369703,
           0.5832206436608762,
           0.4653469276568764,
           0.6825901482885833,
           0.5858424024928568,
           0.5025791138659194,
           0.6174980656961213,
           0.5734800328300896,
           0.3832365049960879,
           0.6024146856730562,
           0.4684259616330218,
           0.5855243358376478,
           0.5441718645158807,
           0.5194213962667525,
           0.5584200295163079,
           0.5628310929398799,
           0.6312600379316771,
           0.540071648311979,
           0.5740383236041054,
           0.4585782638024884,
           0.5310754824613313,
           0.3227433230824891,
           0.5951566090813779,
           0.6123716465746116,
           0.5270860625683244,
           0.5634525620276845,
           0.573590692657227,
           0.6410049427185278,
           0.6341368812764846,
           0.5852947191942327,
           0.4823436012067422,
           0.3828676558149127,
           0.5320406630316449,
           0.5341896377987232,
           0.5061287327385579,
           0.5521054932370971,
           0.5851503273424544,
           0.4577655120698305,
           0.5364365323665491,
           0.5933710508467073,
           0.5488722274134579,
           0.5859174443129874,
           0.4789067543989631,
           0.3884192125682272,
           0.3979288475151681,
           0.5825319509432149,
           0.5987474156258932,
           0.6115541275705447,
           0.5557175288554173,
           0.6361587209929705,
           0.5231246790067616,
           0.5020940667699514,
           0.6271241333954324,
           0.574022252897572,
           0.6363138026833579,
           0.6088221344768295,
           0.5352504301630605,
           0.5748103345404862,
           0.5504873332555589,
           0.4797520677435496,
           0.5754188225700407,
           0.578708271076762,
           0.4638060614157433,
           0.5773632361155193,
           0.6384011807837298,
           0.5544368072289134,
           0.4063804292941461,
           0.5175783571430614,
           0.4567973976869511,
           0.5967527192924151,
           0.526986068306207,
           0.5584216659543187,
           0.5557353964379681,
           0.4834049110028597,
           0.6064039298956896,
           0.6054290216720781,
           0.6197846472529199,
           0.6150669687348325,
           0.3504421392369703,
           0.5832206436608762,
           0.4653469276568764,
           0.6825901482885833,
           0.5858424024928568,
           0.5025791138659194,
           0.6174980656961213,
           0.5734800328300896,
           0.3832365049960879,
           0.6024146856730562,
           0.4684259616330218,
           0.5855243358376478,
           0.5441718645158807,
           0.5194213962667525,
           0.5584200295163079,
           0.5628310929398799,
           0.6312600379316771,
           0.540071648311979,
           0.5740383236041054,
           0.4585782638024884,
           0.5310754824613313,
           0.3227433230824891,
           0.5951566090813779,
           0.6123716465746116,
           0.5270860625683244,
           0.5634525620276845,
           0.573590692657227,
           0.6410049427185278,
           0.6341368812764846,
           0.5852947191942327,
           0.4823436012067422,
           0.3828676558149127,
           0.5320406630316449,
           0.5341896377987232,
           0.5061287327385579,
           0.5521054932370971,
           0.5851503273424544,
           0.4577655120698305,
           0.5364365323665491,
           0.5933710508467073,
           0.5488722274134579,
           0.5859174443129874,
           0.4789067543989631,
           0.3884192125682272,
           0.3979288475151681,
           0.5825319509432149,
           0.5987474156258932,
           0.6115541275705447,
           0.5557175288554173,
           0.6361587209929705,
           0.5231246790067616,
           0.5020940667699514,
           0.6271241333954324,
           0.574022252897572,
           0.6363138026833579,
           0.6088221344768295,
           0.5352504301630605,
           0.5748103345404862,
           0.5504873332555589,
           0.4797520677435496,
           0.5754188225700407,
           0.578708271076762,
           0.4638060614157433
          ],
          "coloraxis": "coloraxis",
          "size": 4,
          "symbol": "circle"
         },
         "mode": "markers",
         "name": "",
         "r": [
          0.7405668394052192,
          0.4982226851374887,
          0.6168489348392825,
          0.6747105320707152,
          0.2594855103879942,
          0.7349224674012476,
          0.7693487360501683,
          0.927581546512932,
          0.7716480245332591,
          0.6854074344602803,
          0.5731177890934862,
          0.3992337546158325,
          0.7276247947997345,
          0.6854000197484644,
          0.6131805927670735,
          0.8798482977518554,
          0.7903357496102764,
          0.4886544499863401,
          0.6706260548286864,
          0.5914745525870846,
          0.4398132580992295,
          0.4475358124803925,
          0.8983400400085437,
          0.4383415636121739,
          0.6657436954051651,
          0.7192157029776687,
          0.5118054476154099,
          0.674169757167136,
          0.6353114513364742,
          0.8637165588065189,
          0.9192758031502252,
          0.6429286498252,
          0.8309545371414662,
          0.6706809620848205,
          0.7137570848786622,
          0.6362527459122266,
          0.6056537372588058,
          0.7474283875782912,
          0.7440001109272483,
          0.5540269434368806,
          0.7617344522349527,
          0.8993443746804791,
          0.6564990974932641,
          0.7233500352765379,
          0.8789529353431497,
          0.7204597435857938,
          0.5561687103094609,
          0.8687589115669352,
          0.6940916032539826,
          0.4734283821830541,
          0.9412888115494986,
          0.7138367189118631,
          0.4833539459094517,
          0.9125438987232132,
          0.5416362583340856,
          0.7027428942682176,
          0.7367562831576207,
          0.7421660066274143,
          0.3708861382381431,
          0.9028196176066656,
          0.6486193191593467,
          0.6930977718513349,
          0.7676788029357213,
          0.6730430068055147,
          0.8509429681361503,
          0.7136427920630575,
          0.6331766778197343,
          0.6658967717878359,
          0.489980703163446,
          0.6139440197599811,
          0.7193250561952236,
          0.92160271750643,
          0.6313602184157876,
          0.5411908341239007,
          0.941723325349474,
          0.714430212537444,
          0.9125713800833516,
          0.7816320754565388,
          0.7405668394052192,
          0.4982226851374887,
          0.6168489348392825,
          0.6747105320707152,
          0.2594855103879942,
          0.7349224674012476,
          0.7693487360501683,
          0.927581546512932,
          0.7716480245332591,
          0.6854074344602803,
          0.5731177890934862,
          0.3992337546158325,
          0.7276247947997345,
          0.6854000197484644,
          0.6131805927670735,
          0.8798482977518554,
          0.7903357496102764,
          0.4886544499863401,
          0.6706260548286864,
          0.5914745525870846,
          0.4398132580992295,
          0.4475358124803925,
          0.8983400400085437,
          0.4383415636121739,
          0.6657436954051651,
          0.7192157029776687,
          0.5118054476154099,
          0.674169757167136,
          0.6353114513364742,
          0.8637165588065189,
          0.9192758031502252,
          0.6429286498252,
          0.8309545371414662,
          0.6706809620848205,
          0.7137570848786622,
          0.6362527459122266,
          0.6056537372588058,
          0.7474283875782912,
          0.7440001109272483,
          0.5540269434368806,
          0.7617344522349527,
          0.8993443746804791,
          0.6564990974932641,
          0.7233500352765379,
          0.8789529353431497,
          0.7204597435857938,
          0.5561687103094609,
          0.8687589115669352,
          0.6940916032539826,
          0.4734283821830541,
          0.9412888115494986,
          0.7138367189118631,
          0.4833539459094517,
          0.9125438987232132,
          0.5416362583340856,
          0.7027428942682176,
          0.7367562831576207,
          0.7421660066274143,
          0.3708861382381431,
          0.9028196176066656,
          0.6486193191593467,
          0.6930977718513349,
          0.7676788029357213,
          0.6730430068055147,
          0.8509429681361503,
          0.7136427920630575,
          0.6331766778197343,
          0.6658967717878359,
          0.489980703163446,
          0.6139440197599811,
          0.7193250561952236,
          0.92160271750643,
          0.6313602184157876,
          0.5411908341239007,
          0.941723325349474,
          0.714430212537444,
          0.9125713800833516,
          0.7816320754565388
         ],
         "showlegend": false,
         "subplot": "polar",
         "theta": [
          8.708713790294714,
          55.27295189182876,
          -34.5147624031155,
          40.16767991089159,
          11.914311378030922,
          10.931575337978035,
          62.23789039764281,
          70.95271236852115,
          -33.69658960924329,
          49.61655052266127,
          68.3957527568516,
          20.18668887751426,
          1.8588372097726304,
          6.5589821297181325,
          83.54014020011377,
          79.17864288088352,
          57.25732055663777,
          9.012060510698651,
          -41.28221778123495,
          77.90986566568765,
          -58.31127337784507,
          15.520035320316564,
          53.71803449041676,
          50.9180910671318,
          45.08073633701672,
          28.86106331546674,
          58.599463736222646,
          21.857897896542266,
          32.59063291575566,
          21.32225393659529,
          60.53835937484985,
          -12.65998186224827,
          -65.87668825033508,
          -2.020103184164588,
          -20.990259940662423,
          -62.79396683840267,
          -46.32854895477528,
          39.63195974406649,
          32.93455836065309,
          35.99749327600222,
          54.32667644856557,
          57.2887182843422,
          84.06074888533018,
          53.6401471807004,
          73.89253044231289,
          -6.772484366907852,
          60.16512582015071,
          35.8584255469298,
          -27.31101309166541,
          49.43217090743864,
          58.75604594300985,
          68.73749991269013,
          10.667169138239094,
          52.4123764109131,
          -28.90410187531192,
          28.548838583591724,
          55.08915583229357,
          70.62326276398262,
          33.28262902432123,
          58.929218897024974,
          76.74851506956666,
          45.265668902383744,
          22.53298213624899,
          -11.19699954063053,
          3.654112737402607,
          41.9855809625633,
          17.231379137388707,
          37.01346603067835,
          37.31128717023785,
          -51.43601569768534,
          37.76018750985194,
          59.53082498064541,
          82.13353747077822,
          54.6875074387201,
          79.69789097606784,
          15.056502186949194,
          57.85596062660501,
          -0.5260539271837325,
          8.708713790294714,
          55.27295189182876,
          -34.5147624031155,
          40.16767991089159,
          11.914311378030922,
          10.931575337978035,
          62.23789039764281,
          70.95271236852115,
          -33.69658960924329,
          49.61655052266127,
          68.3957527568516,
          20.18668887751426,
          1.8588372097726304,
          6.5589821297181325,
          83.54014020011377,
          79.17864288088352,
          57.25732055663777,
          9.012060510698651,
          -41.28221778123495,
          77.90986566568765,
          -58.31127337784507,
          15.520035320316564,
          53.71803449041676,
          50.9180910671318,
          45.08073633701672,
          28.86106331546674,
          58.599463736222646,
          21.857897896542266,
          32.59063291575566,
          21.32225393659529,
          60.53835937484985,
          -12.65998186224827,
          -65.87668825033508,
          -2.020103184164588,
          -20.990259940662423,
          -62.79396683840267,
          -46.32854895477528,
          39.63195974406649,
          32.93455836065309,
          35.99749327600222,
          54.32667644856557,
          57.2887182843422,
          84.06074888533018,
          53.6401471807004,
          73.89253044231289,
          -6.772484366907852,
          60.16512582015071,
          35.8584255469298,
          -27.31101309166541,
          49.43217090743864,
          58.75604594300985,
          68.73749991269013,
          10.667169138239094,
          52.4123764109131,
          -28.90410187531192,
          28.548838583591724,
          55.08915583229357,
          70.62326276398262,
          33.28262902432123,
          58.929218897024974,
          76.74851506956666,
          45.265668902383744,
          22.53298213624899,
          -11.19699954063053,
          3.654112737402607,
          41.9855809625633,
          17.231379137388707,
          37.01346603067835,
          37.31128717023785,
          -51.43601569768534,
          37.76018750985194,
          59.53082498064541,
          82.13353747077822,
          54.6875074387201,
          79.69789097606784,
          15.056502186949194,
          57.85596062660501,
          -0.5260539271837325
         ],
         "type": "scatterpolar"
        }
       ],
       "layout": {
        "coloraxis": {
         "colorbar": {
          "title": {
           "text": "gratio"
          }
         },
         "colorscale": [
          [
           0,
           "#0d0887"
          ],
          [
           0.1111111111111111,
           "#46039f"
          ],
          [
           0.2222222222222222,
           "#7201a8"
          ],
          [
           0.3333333333333333,
           "#9c179e"
          ],
          [
           0.4444444444444444,
           "#bd3786"
          ],
          [
           0.5555555555555556,
           "#d8576b"
          ],
          [
           0.6666666666666666,
           "#ed7953"
          ],
          [
           0.7777777777777778,
           "#fb9f3a"
          ],
          [
           0.8888888888888888,
           "#fdca26"
          ],
          [
           1,
           "#f0f921"
          ]
         ]
        },
        "height": 600,
        "legend": {
         "tracegroupgap": 0
        },
        "polar": {
         "angularaxis": {
          "direction": "clockwise",
          "rotation": 90
         },
         "domain": {
          "x": [
           0,
           1
          ],
          "y": [
           0,
           1
          ]
         },
         "radialaxis": {
          "range": [
           0,
           1
          ]
         },
         "sector": [
          0,
          180
         ]
        },
        "template": {
         "data": {
          "bar": [
           {
            "error_x": {
             "color": "#f2f5fa"
            },
            "error_y": {
             "color": "#f2f5fa"
            },
            "marker": {
             "line": {
              "color": "rgb(17,17,17)",
              "width": 0.5
             },
             "pattern": {
              "fillmode": "overlay",
              "size": 10,
              "solidity": 0.2
             }
            },
            "type": "bar"
           }
          ],
          "barpolar": [
           {
            "marker": {
             "line": {
              "color": "rgb(17,17,17)",
              "width": 0.5
             },
             "pattern": {
              "fillmode": "overlay",
              "size": 10,
              "solidity": 0.2
             }
            },
            "type": "barpolar"
           }
          ],
          "carpet": [
           {
            "aaxis": {
             "endlinecolor": "#A2B1C6",
             "gridcolor": "#506784",
             "linecolor": "#506784",
             "minorgridcolor": "#506784",
             "startlinecolor": "#A2B1C6"
            },
            "baxis": {
             "endlinecolor": "#A2B1C6",
             "gridcolor": "#506784",
             "linecolor": "#506784",
             "minorgridcolor": "#506784",
             "startlinecolor": "#A2B1C6"
            },
            "type": "carpet"
           }
          ],
          "choropleth": [
           {
            "colorbar": {
             "outlinewidth": 0,
             "ticks": ""
            },
            "type": "choropleth"
           }
          ],
          "contour": [
           {
            "colorbar": {
             "outlinewidth": 0,
             "ticks": ""
            },
            "colorscale": [
             [
              0,
              "#0d0887"
             ],
             [
              0.1111111111111111,
              "#46039f"
             ],
             [
              0.2222222222222222,
              "#7201a8"
             ],
             [
              0.3333333333333333,
              "#9c179e"
             ],
             [
              0.4444444444444444,
              "#bd3786"
             ],
             [
              0.5555555555555556,
              "#d8576b"
             ],
             [
              0.6666666666666666,
              "#ed7953"
             ],
             [
              0.7777777777777778,
              "#fb9f3a"
             ],
             [
              0.8888888888888888,
              "#fdca26"
             ],
             [
              1,
              "#f0f921"
             ]
            ],
            "type": "contour"
           }
          ],
          "contourcarpet": [
           {
            "colorbar": {
             "outlinewidth": 0,
             "ticks": ""
            },
            "type": "contourcarpet"
           }
          ],
          "heatmap": [
           {
            "colorbar": {
             "outlinewidth": 0,
             "ticks": ""
            },
            "colorscale": [
             [
              0,
              "#0d0887"
             ],
             [
              0.1111111111111111,
              "#46039f"
             ],
             [
              0.2222222222222222,
              "#7201a8"
             ],
             [
              0.3333333333333333,
              "#9c179e"
             ],
             [
              0.4444444444444444,
              "#bd3786"
             ],
             [
              0.5555555555555556,
              "#d8576b"
             ],
             [
              0.6666666666666666,
              "#ed7953"
             ],
             [
              0.7777777777777778,
              "#fb9f3a"
             ],
             [
              0.8888888888888888,
              "#fdca26"
             ],
             [
              1,
              "#f0f921"
             ]
            ],
            "type": "heatmap"
           }
          ],
          "heatmapgl": [
           {
            "colorbar": {
             "outlinewidth": 0,
             "ticks": ""
            },
            "colorscale": [
             [
              0,
              "#0d0887"
             ],
             [
              0.1111111111111111,
              "#46039f"
             ],
             [
              0.2222222222222222,
              "#7201a8"
             ],
             [
              0.3333333333333333,
              "#9c179e"
             ],
             [
              0.4444444444444444,
              "#bd3786"
             ],
             [
              0.5555555555555556,
              "#d8576b"
             ],
             [
              0.6666666666666666,
              "#ed7953"
             ],
             [
              0.7777777777777778,
              "#fb9f3a"
             ],
             [
              0.8888888888888888,
              "#fdca26"
             ],
             [
              1,
              "#f0f921"
             ]
            ],
            "type": "heatmapgl"
           }
          ],
          "histogram": [
           {
            "marker": {
             "pattern": {
              "fillmode": "overlay",
              "size": 10,
              "solidity": 0.2
             }
            },
            "type": "histogram"
           }
          ],
          "histogram2d": [
           {
            "colorbar": {
             "outlinewidth": 0,
             "ticks": ""
            },
            "colorscale": [
             [
              0,
              "#0d0887"
             ],
             [
              0.1111111111111111,
              "#46039f"
             ],
             [
              0.2222222222222222,
              "#7201a8"
             ],
             [
              0.3333333333333333,
              "#9c179e"
             ],
             [
              0.4444444444444444,
              "#bd3786"
             ],
             [
              0.5555555555555556,
              "#d8576b"
             ],
             [
              0.6666666666666666,
              "#ed7953"
             ],
             [
              0.7777777777777778,
              "#fb9f3a"
             ],
             [
              0.8888888888888888,
              "#fdca26"
             ],
             [
              1,
              "#f0f921"
             ]
            ],
            "type": "histogram2d"
           }
          ],
          "histogram2dcontour": [
           {
            "colorbar": {
             "outlinewidth": 0,
             "ticks": ""
            },
            "colorscale": [
             [
              0,
              "#0d0887"
             ],
             [
              0.1111111111111111,
              "#46039f"
             ],
             [
              0.2222222222222222,
              "#7201a8"
             ],
             [
              0.3333333333333333,
              "#9c179e"
             ],
             [
              0.4444444444444444,
              "#bd3786"
             ],
             [
              0.5555555555555556,
              "#d8576b"
             ],
             [
              0.6666666666666666,
              "#ed7953"
             ],
             [
              0.7777777777777778,
              "#fb9f3a"
             ],
             [
              0.8888888888888888,
              "#fdca26"
             ],
             [
              1,
              "#f0f921"
             ]
            ],
            "type": "histogram2dcontour"
           }
          ],
          "mesh3d": [
           {
            "colorbar": {
             "outlinewidth": 0,
             "ticks": ""
            },
            "type": "mesh3d"
           }
          ],
          "parcoords": [
           {
            "line": {
             "colorbar": {
              "outlinewidth": 0,
              "ticks": ""
             }
            },
            "type": "parcoords"
           }
          ],
          "pie": [
           {
            "automargin": true,
            "type": "pie"
           }
          ],
          "scatter": [
           {
            "marker": {
             "line": {
              "color": "#283442"
             }
            },
            "type": "scatter"
           }
          ],
          "scatter3d": [
           {
            "line": {
             "colorbar": {
              "outlinewidth": 0,
              "ticks": ""
             }
            },
            "marker": {
             "colorbar": {
              "outlinewidth": 0,
              "ticks": ""
             }
            },
            "type": "scatter3d"
           }
          ],
          "scattercarpet": [
           {
            "marker": {
             "colorbar": {
              "outlinewidth": 0,
              "ticks": ""
             }
            },
            "type": "scattercarpet"
           }
          ],
          "scattergeo": [
           {
            "marker": {
             "colorbar": {
              "outlinewidth": 0,
              "ticks": ""
             }
            },
            "type": "scattergeo"
           }
          ],
          "scattergl": [
           {
            "marker": {
             "line": {
              "color": "#283442"
             }
            },
            "type": "scattergl"
           }
          ],
          "scattermapbox": [
           {
            "marker": {
             "colorbar": {
              "outlinewidth": 0,
              "ticks": ""
             }
            },
            "type": "scattermapbox"
           }
          ],
          "scatterpolar": [
           {
            "marker": {
             "colorbar": {
              "outlinewidth": 0,
              "ticks": ""
             }
            },
            "type": "scatterpolar"
           }
          ],
          "scatterpolargl": [
           {
            "marker": {
             "colorbar": {
              "outlinewidth": 0,
              "ticks": ""
             }
            },
            "type": "scatterpolargl"
           }
          ],
          "scatterternary": [
           {
            "marker": {
             "colorbar": {
              "outlinewidth": 0,
              "ticks": ""
             }
            },
            "type": "scatterternary"
           }
          ],
          "surface": [
           {
            "colorbar": {
             "outlinewidth": 0,
             "ticks": ""
            },
            "colorscale": [
             [
              0,
              "#0d0887"
             ],
             [
              0.1111111111111111,
              "#46039f"
             ],
             [
              0.2222222222222222,
              "#7201a8"
             ],
             [
              0.3333333333333333,
              "#9c179e"
             ],
             [
              0.4444444444444444,
              "#bd3786"
             ],
             [
              0.5555555555555556,
              "#d8576b"
             ],
             [
              0.6666666666666666,
              "#ed7953"
             ],
             [
              0.7777777777777778,
              "#fb9f3a"
             ],
             [
              0.8888888888888888,
              "#fdca26"
             ],
             [
              1,
              "#f0f921"
             ]
            ],
            "type": "surface"
           }
          ],
          "table": [
           {
            "cells": {
             "fill": {
              "color": "#506784"
             },
             "line": {
              "color": "rgb(17,17,17)"
             }
            },
            "header": {
             "fill": {
              "color": "#2a3f5f"
             },
             "line": {
              "color": "rgb(17,17,17)"
             }
            },
            "type": "table"
           }
          ]
         },
         "layout": {
          "annotationdefaults": {
           "arrowcolor": "#f2f5fa",
           "arrowhead": 0,
           "arrowwidth": 1
          },
          "autotypenumbers": "strict",
          "coloraxis": {
           "colorbar": {
            "outlinewidth": 0,
            "ticks": ""
           }
          },
          "colorscale": {
           "diverging": [
            [
             0,
             "#8e0152"
            ],
            [
             0.1,
             "#c51b7d"
            ],
            [
             0.2,
             "#de77ae"
            ],
            [
             0.3,
             "#f1b6da"
            ],
            [
             0.4,
             "#fde0ef"
            ],
            [
             0.5,
             "#f7f7f7"
            ],
            [
             0.6,
             "#e6f5d0"
            ],
            [
             0.7,
             "#b8e186"
            ],
            [
             0.8,
             "#7fbc41"
            ],
            [
             0.9,
             "#4d9221"
            ],
            [
             1,
             "#276419"
            ]
           ],
           "sequential": [
            [
             0,
             "#0d0887"
            ],
            [
             0.1111111111111111,
             "#46039f"
            ],
            [
             0.2222222222222222,
             "#7201a8"
            ],
            [
             0.3333333333333333,
             "#9c179e"
            ],
            [
             0.4444444444444444,
             "#bd3786"
            ],
            [
             0.5555555555555556,
             "#d8576b"
            ],
            [
             0.6666666666666666,
             "#ed7953"
            ],
            [
             0.7777777777777778,
             "#fb9f3a"
            ],
            [
             0.8888888888888888,
             "#fdca26"
            ],
            [
             1,
             "#f0f921"
            ]
           ],
           "sequentialminus": [
            [
             0,
             "#0d0887"
            ],
            [
             0.1111111111111111,
             "#46039f"
            ],
            [
             0.2222222222222222,
             "#7201a8"
            ],
            [
             0.3333333333333333,
             "#9c179e"
            ],
            [
             0.4444444444444444,
             "#bd3786"
            ],
            [
             0.5555555555555556,
             "#d8576b"
            ],
            [
             0.6666666666666666,
             "#ed7953"
            ],
            [
             0.7777777777777778,
             "#fb9f3a"
            ],
            [
             0.8888888888888888,
             "#fdca26"
            ],
            [
             1,
             "#f0f921"
            ]
           ]
          },
          "colorway": [
           "#636efa",
           "#EF553B",
           "#00cc96",
           "#ab63fa",
           "#FFA15A",
           "#19d3f3",
           "#FF6692",
           "#B6E880",
           "#FF97FF",
           "#FECB52"
          ],
          "font": {
           "color": "#f2f5fa"
          },
          "geo": {
           "bgcolor": "rgb(17,17,17)",
           "lakecolor": "rgb(17,17,17)",
           "landcolor": "rgb(17,17,17)",
           "showlakes": true,
           "showland": true,
           "subunitcolor": "#506784"
          },
          "hoverlabel": {
           "align": "left"
          },
          "hovermode": "closest",
          "mapbox": {
           "style": "dark"
          },
          "paper_bgcolor": "rgb(17,17,17)",
          "plot_bgcolor": "rgb(17,17,17)",
          "polar": {
           "angularaxis": {
            "gridcolor": "#506784",
            "linecolor": "#506784",
            "ticks": ""
           },
           "bgcolor": "rgb(17,17,17)",
           "radialaxis": {
            "gridcolor": "#506784",
            "linecolor": "#506784",
            "ticks": ""
           }
          },
          "scene": {
           "xaxis": {
            "backgroundcolor": "rgb(17,17,17)",
            "gridcolor": "#506784",
            "gridwidth": 2,
            "linecolor": "#506784",
            "showbackground": true,
            "ticks": "",
            "zerolinecolor": "#C8D4E3"
           },
           "yaxis": {
            "backgroundcolor": "rgb(17,17,17)",
            "gridcolor": "#506784",
            "gridwidth": 2,
            "linecolor": "#506784",
            "showbackground": true,
            "ticks": "",
            "zerolinecolor": "#C8D4E3"
           },
           "zaxis": {
            "backgroundcolor": "rgb(17,17,17)",
            "gridcolor": "#506784",
            "gridwidth": 2,
            "linecolor": "#506784",
            "showbackground": true,
            "ticks": "",
            "zerolinecolor": "#C8D4E3"
           }
          },
          "shapedefaults": {
           "line": {
            "color": "#f2f5fa"
           }
          },
          "sliderdefaults": {
           "bgcolor": "#C8D4E3",
           "bordercolor": "rgb(17,17,17)",
           "borderwidth": 1,
           "tickwidth": 0
          },
          "ternary": {
           "aaxis": {
            "gridcolor": "#506784",
            "linecolor": "#506784",
            "ticks": ""
           },
           "baxis": {
            "gridcolor": "#506784",
            "linecolor": "#506784",
            "ticks": ""
           },
           "bgcolor": "rgb(17,17,17)",
           "caxis": {
            "gridcolor": "#506784",
            "linecolor": "#506784",
            "ticks": ""
           }
          },
          "title": {
           "x": 0.05
          },
          "updatemenudefaults": {
           "bgcolor": "#506784",
           "borderwidth": 0
          },
          "xaxis": {
           "automargin": true,
           "gridcolor": "#283442",
           "linecolor": "#506784",
           "ticks": "",
           "title": {
            "standoff": 15
           },
           "zerolinecolor": "#283442",
           "zerolinewidth": 2
          },
          "yaxis": {
           "automargin": true,
           "gridcolor": "#283442",
           "linecolor": "#506784",
           "ticks": "",
           "title": {
            "standoff": 15
           },
           "zerolinecolor": "#283442",
           "zerolinewidth": 2
          }
         }
        },
        "title": {
         "text": "Orientation (radial axis), Eccentricity (angular displacement), gratio (color)"
        },
        "width": 1200
       }
      }
     },
     "metadata": {},
     "output_type": "display_data"
    }
   ],
   "source": [
    "fig = px.scatter_polar(measurements_all, \n",
    "                    r=\"eccentricity_mean\", \n",
    "                    theta=\"orientation_mean_deg\", \n",
    "                    color=measurements_all[\"gratio\"],\n",
    "                    template=\"plotly_dark\",\n",
    "                    range_theta=(0, 180),\n",
    "                    range_r=(0, 1),\n",
    "                    title=\"Orientation (radial axis), Eccentricity (angular displacement), gratio (color)\")\n",
    "\n",
    "fig.data[0].update(mode='markers', marker=dict(size=4))\n",
    "fig.update_layout(width=1200,height=600)\n",
    "# pio.write_image(fig, path_results + \"_Orientation_vs_gratio.png\")\n",
    "fig.show()\n"
   ]
  },
  {
   "cell_type": "code",
   "execution_count": 17,
   "metadata": {},
   "outputs": [
    {
     "data": {
      "application/vnd.plotly.v1+json": {
       "config": {
        "plotlyServerURL": "https://plot.ly"
       },
       "data": [
        {
         "hovertemplate": "gratio=%{x}<br>y=%{y}<br>inner_axis_minor_length=%{z}<br>inner_area=%{marker.color}<extra></extra>",
         "legendgroup": "",
         "marker": {
          "color": [
           0.4647646399999999,
           0.2254300799999999,
           0.4508601599999999,
           0.3354825599999999,
           0.1008814399999999,
           0.2736519999999999,
           0.2277967999999999,
           0.4647646399999999,
           0.2227675199999999,
           2.2824056,
           0.1165609599999999,
           0.1035439999999999,
           0.1848999999999999,
           0.28666896,
           0.3736459199999999,
           0.4206844799999999,
           0.3837044799999999,
           0.1029523199999999,
           0.8922534399999998,
           0.58665072,
           0.13224048,
           0.0857935999999999,
           1.1304046399999998,
           0.2544223999999999,
           0.4020465599999999,
           0.96414256,
           0.1239569599999999,
           0.6801361599999999,
           0.29051488,
           0.2919940799999999,
           0.5973009599999999,
           0.1079815999999999,
           0.1523575999999999,
           1.95905248,
           0.3736459199999999,
           0.1745455999999999,
           0.1686287999999999,
           0.1088691199999999,
           2.8711272,
           0.76829648,
           0.1754331199999999,
           0.4446475199999999,
           0.4612145599999999,
           0.3996798399999999,
           0.6242224,
           0.2343052799999999,
           0.0914145599999999,
           1.2466697599999998,
           0.16981216,
           0.0798767999999999,
           2.499848,
           0.7271747199999999,
           0.2414054399999999,
           0.7363457599999998,
           0.26241008,
           0.2236550399999999,
           0.2337135999999999,
           0.1473283199999999,
           0.0857935999999999,
           1.18691008,
           0.18075824,
           0.8159267199999999,
           0.4236428799999999,
           0.2801604799999999,
           0.4165427199999999,
           0.1218860799999999,
           0.1023606399999999,
           0.1473283199999999,
           0.08490608,
           0.2458430399999999,
           0.2621142399999999,
           0.3449494399999999,
           0.1884500799999999,
           0.16004944,
           0.90941216,
           0.5987801599999999,
           1.07863264,
           0.4446475199999999,
           0.4647646399999999,
           0.2254300799999999,
           0.4508601599999999,
           0.3354825599999999,
           0.1008814399999999,
           0.2736519999999999,
           0.2277967999999999,
           0.4647646399999999,
           0.2227675199999999,
           2.2824056,
           0.1165609599999999,
           0.1035439999999999,
           0.1848999999999999,
           0.28666896,
           0.3736459199999999,
           0.4206844799999999,
           0.3837044799999999,
           0.1029523199999999,
           0.8922534399999998,
           0.58665072,
           0.13224048,
           0.0857935999999999,
           1.1304046399999998,
           0.2544223999999999,
           0.4020465599999999,
           0.96414256,
           0.1239569599999999,
           0.6801361599999999,
           0.29051488,
           0.2919940799999999,
           0.5973009599999999,
           0.1079815999999999,
           0.1523575999999999,
           1.95905248,
           0.3736459199999999,
           0.1745455999999999,
           0.1686287999999999,
           0.1088691199999999,
           2.8711272,
           0.76829648,
           0.1754331199999999,
           0.4446475199999999,
           0.4612145599999999,
           0.3996798399999999,
           0.6242224,
           0.2343052799999999,
           0.0914145599999999,
           1.2466697599999998,
           0.16981216,
           0.0798767999999999,
           2.499848,
           0.7271747199999999,
           0.2414054399999999,
           0.7363457599999998,
           0.26241008,
           0.2236550399999999,
           0.2337135999999999,
           0.1473283199999999,
           0.0857935999999999,
           1.18691008,
           0.18075824,
           0.8159267199999999,
           0.4236428799999999,
           0.2801604799999999,
           0.4165427199999999,
           0.1218860799999999,
           0.1023606399999999,
           0.1473283199999999,
           0.08490608,
           0.2458430399999999,
           0.2621142399999999,
           0.3449494399999999,
           0.1884500799999999,
           0.16004944,
           0.90941216,
           0.5987801599999999,
           1.07863264,
           0.4446475199999999
          ],
          "coloraxis": "coloraxis",
          "size": 2,
          "symbol": "circle"
         },
         "mode": "markers",
         "name": "",
         "scene": "scene",
         "showlegend": false,
         "type": "scatter3d",
         "x": [
          0.5773632361155193,
          0.6384011807837298,
          0.5544368072289134,
          0.4063804292941461,
          0.5175783571430614,
          0.4567973976869511,
          0.5967527192924151,
          0.526986068306207,
          0.5584216659543187,
          0.5557353964379681,
          0.4834049110028597,
          0.6064039298956896,
          0.6054290216720781,
          0.6197846472529199,
          0.6150669687348325,
          0.3504421392369703,
          0.5832206436608762,
          0.4653469276568764,
          0.6825901482885833,
          0.5858424024928568,
          0.5025791138659194,
          0.6174980656961213,
          0.5734800328300896,
          0.3832365049960879,
          0.6024146856730562,
          0.4684259616330218,
          0.5855243358376478,
          0.5441718645158807,
          0.5194213962667525,
          0.5584200295163079,
          0.5628310929398799,
          0.6312600379316771,
          0.540071648311979,
          0.5740383236041054,
          0.4585782638024884,
          0.5310754824613313,
          0.3227433230824891,
          0.5951566090813779,
          0.6123716465746116,
          0.5270860625683244,
          0.5634525620276845,
          0.573590692657227,
          0.6410049427185278,
          0.6341368812764846,
          0.5852947191942327,
          0.4823436012067422,
          0.3828676558149127,
          0.5320406630316449,
          0.5341896377987232,
          0.5061287327385579,
          0.5521054932370971,
          0.5851503273424544,
          0.4577655120698305,
          0.5364365323665491,
          0.5933710508467073,
          0.5488722274134579,
          0.5859174443129874,
          0.4789067543989631,
          0.3884192125682272,
          0.3979288475151681,
          0.5825319509432149,
          0.5987474156258932,
          0.6115541275705447,
          0.5557175288554173,
          0.6361587209929705,
          0.5231246790067616,
          0.5020940667699514,
          0.6271241333954324,
          0.574022252897572,
          0.6363138026833579,
          0.6088221344768295,
          0.5352504301630605,
          0.5748103345404862,
          0.5504873332555589,
          0.4797520677435496,
          0.5754188225700407,
          0.578708271076762,
          0.4638060614157433,
          0.5773632361155193,
          0.6384011807837298,
          0.5544368072289134,
          0.4063804292941461,
          0.5175783571430614,
          0.4567973976869511,
          0.5967527192924151,
          0.526986068306207,
          0.5584216659543187,
          0.5557353964379681,
          0.4834049110028597,
          0.6064039298956896,
          0.6054290216720781,
          0.6197846472529199,
          0.6150669687348325,
          0.3504421392369703,
          0.5832206436608762,
          0.4653469276568764,
          0.6825901482885833,
          0.5858424024928568,
          0.5025791138659194,
          0.6174980656961213,
          0.5734800328300896,
          0.3832365049960879,
          0.6024146856730562,
          0.4684259616330218,
          0.5855243358376478,
          0.5441718645158807,
          0.5194213962667525,
          0.5584200295163079,
          0.5628310929398799,
          0.6312600379316771,
          0.540071648311979,
          0.5740383236041054,
          0.4585782638024884,
          0.5310754824613313,
          0.3227433230824891,
          0.5951566090813779,
          0.6123716465746116,
          0.5270860625683244,
          0.5634525620276845,
          0.573590692657227,
          0.6410049427185278,
          0.6341368812764846,
          0.5852947191942327,
          0.4823436012067422,
          0.3828676558149127,
          0.5320406630316449,
          0.5341896377987232,
          0.5061287327385579,
          0.5521054932370971,
          0.5851503273424544,
          0.4577655120698305,
          0.5364365323665491,
          0.5933710508467073,
          0.5488722274134579,
          0.5859174443129874,
          0.4789067543989631,
          0.3884192125682272,
          0.3979288475151681,
          0.5825319509432149,
          0.5987474156258932,
          0.6115541275705447,
          0.5557175288554173,
          0.6361587209929705,
          0.5231246790067616,
          0.5020940667699514,
          0.6271241333954324,
          0.574022252897572,
          0.6363138026833579,
          0.6088221344768295,
          0.5352504301630605,
          0.5748103345404862,
          0.5504873332555589,
          0.4797520677435496,
          0.5754188225700407,
          0.578708271076762,
          0.4638060614157433
         ],
         "y": [
          -0.5344634688435382,
          0.22026156800272437,
          -1.5272109135749272,
          0.2046336582731972,
          -0.654631725653876,
          -0.4777584687222894,
          0.9483443274123475,
          1.5900845897697382,
          -1.6958258785637,
          0.4517845018697947,
          0.6375689674555217,
          -0.4768513439289471,
          -0.7168687942208776,
          -0.6043878794304833,
          1.0679670661513903,
          1.7278953335058682,
          0.8542174151816491,
          -0.6076711657775136,
          -1.756057714244555,
          0.8838925537281545,
          -1.683091279689334,
          -0.5166988394052677,
          0.9617439816208632,
          0.03349462356438251,
          0.3087999384320058,
          -0.02241266651065575,
          0.30805944339465385,
          -0.23790557651876218,
          -0.024278203531873897,
          -0.10619012911082086,
          1.226373323409445,
          -1.056567239620165,
          -2.7243199281962562,
          -0.8137601701270945,
          -1.301445045112248,
          -2.195099759482931,
          -1.769446955243319,
          0.2948367938858022,
          0.11164814048955,
          -0.051534996937657875,
          0.7157181577621149,
          1.0785994199173068,
          1.209708949336586,
          0.6233175153218996,
          1.559079053050647,
          -0.939892980008866,
          0.4322589235023417,
          0.34960206699009566,
          -1.4436802649750238,
          0.07225563774122556,
          1.2140250687930676,
          0.9907425354450367,
          -0.5807502881454156,
          0.9464100649136066,
          -1.325550420669839,
          -0.04727938030400837,
          0.6872589527310623,
          1.1105185579282828,
          -0.32350542239696717,
          1.138729056518986,
          1.0162670910259417,
          0.3575186112674227,
          -0.14621137703519518,
          -1.0349727419233683,
          -0.6539928990438928,
          0.30702812507990146,
          -0.37480941396531253,
          0.11679559734360716,
          -0.111006211946873,
          -1.8954121998418847,
          0.20679139154935217,
          1.198183979446762,
          1.090536878398337,
          0.2939179762204088,
          1.9207263849275582,
          -0.3803095555727102,
          1.1242435235741768,
          -0.7799884466563565,
          -0.5344634688435382,
          0.22026156800272437,
          -1.5272109135749272,
          0.2046336582731972,
          -0.654631725653876,
          -0.4777584687222894,
          0.9483443274123475,
          1.5900845897697382,
          -1.6958258785637,
          0.4517845018697947,
          0.6375689674555217,
          -0.4768513439289471,
          -0.7168687942208776,
          -0.6043878794304833,
          1.0679670661513903,
          1.7278953335058682,
          0.8542174151816491,
          -0.6076711657775136,
          -1.756057714244555,
          0.8838925537281545,
          -1.683091279689334,
          -0.5166988394052677,
          0.9617439816208632,
          0.03349462356438251,
          0.3087999384320058,
          -0.02241266651065575,
          0.30805944339465385,
          -0.23790557651876218,
          -0.024278203531873897,
          -0.10619012911082086,
          1.226373323409445,
          -1.056567239620165,
          -2.7243199281962562,
          -0.8137601701270945,
          -1.301445045112248,
          -2.195099759482931,
          -1.769446955243319,
          0.2948367938858022,
          0.11164814048955,
          -0.051534996937657875,
          0.7157181577621149,
          1.0785994199173068,
          1.209708949336586,
          0.6233175153218996,
          1.559079053050647,
          -0.939892980008866,
          0.4322589235023417,
          0.34960206699009566,
          -1.4436802649750238,
          0.07225563774122556,
          1.2140250687930676,
          0.9907425354450367,
          -0.5807502881454156,
          0.9464100649136066,
          -1.325550420669839,
          -0.04727938030400837,
          0.6872589527310623,
          1.1105185579282828,
          -0.32350542239696717,
          1.138729056518986,
          1.0162670910259417,
          0.3575186112674227,
          -0.14621137703519518,
          -1.0349727419233683,
          -0.6539928990438928,
          0.30702812507990146,
          -0.37480941396531253,
          0.11679559734360716,
          -0.111006211946873,
          -1.8954121998418847,
          0.20679139154935217,
          1.198183979446762,
          1.090536878398337,
          0.2939179762204088,
          1.9207263849275582,
          -0.3803095555727102,
          1.1242435235741768,
          -0.7799884466563565
         ],
         "z": [
          0.6232660532320963,
          0.5095468840351871,
          0.6598995882651318,
          0.5389675423678675,
          0.3518267313719371,
          0.5227707933998864,
          0.443341962739035,
          0.4476419160065562,
          0.4129825118696702,
          1.39254408944216,
          0.353113968893703,
          0.351891578679479,
          0.4031256371735927,
          0.5041026433602896,
          0.6192409703985907,
          0.4650469452373446,
          0.537661820040748,
          0.3418073014716615,
          1.0549997424091748,
          0.7888430454863731,
          0.384918490212941,
          0.3187611256633683,
          0.7789305309603669,
          0.522995114424652,
          0.6119843010331357,
          0.890948348786546,
          0.3717429106964944,
          0.7882658851529546,
          0.5479786560179402,
          0.4145730149692347,
          0.5370892970417268,
          0.3462983738232791,
          0.3425850732552805,
          1.3585502014894666,
          0.5668967604541381,
          0.410288913534412,
          0.4011720726910081,
          0.3298584847615969,
          1.4847649373355327,
          0.8838359296704709,
          0.3818578098865992,
          0.5036865084879564,
          0.6661785313364477,
          0.592660115872917,
          0.6044573110875806,
          0.4390679068280769,
          0.3145502101764086,
          0.8419938145734367,
          0.3867584026858194,
          0.3084796188717486,
          0.9537662819065472,
          0.7928504254430956,
          0.5103690520678291,
          0.582424013742039,
          0.5250273915048854,
          0.4454157819965397,
          0.4384145801597375,
          0.3529262882287022,
          0.3187611256633683,
          0.716256629015461,
          0.4128666256453674,
          0.8491147515208778,
          0.5756377527209784,
          0.5134762888283367,
          0.5337845688963219,
          0.3406786727177727,
          0.3249585442297859,
          0.389233971591206,
          0.3144366557771416,
          0.5135039212843147,
          0.4825616936279903,
          0.3917913443928038,
          0.4331398954955334,
          0.3962194043364213,
          0.5634444362501513,
          0.7041205960247172,
          0.7258522402594083,
          0.5489964313915826,
          0.6232660532320963,
          0.5095468840351871,
          0.6598995882651318,
          0.5389675423678675,
          0.3518267313719371,
          0.5227707933998864,
          0.443341962739035,
          0.4476419160065562,
          0.4129825118696702,
          1.39254408944216,
          0.353113968893703,
          0.351891578679479,
          0.4031256371735927,
          0.5041026433602896,
          0.6192409703985907,
          0.4650469452373446,
          0.537661820040748,
          0.3418073014716615,
          1.0549997424091748,
          0.7888430454863731,
          0.384918490212941,
          0.3187611256633683,
          0.7789305309603669,
          0.522995114424652,
          0.6119843010331357,
          0.890948348786546,
          0.3717429106964944,
          0.7882658851529546,
          0.5479786560179402,
          0.4145730149692347,
          0.5370892970417268,
          0.3462983738232791,
          0.3425850732552805,
          1.3585502014894666,
          0.5668967604541381,
          0.410288913534412,
          0.4011720726910081,
          0.3298584847615969,
          1.4847649373355327,
          0.8838359296704709,
          0.3818578098865992,
          0.5036865084879564,
          0.6661785313364477,
          0.592660115872917,
          0.6044573110875806,
          0.4390679068280769,
          0.3145502101764086,
          0.8419938145734367,
          0.3867584026858194,
          0.3084796188717486,
          0.9537662819065472,
          0.7928504254430956,
          0.5103690520678291,
          0.582424013742039,
          0.5250273915048854,
          0.4454157819965397,
          0.4384145801597375,
          0.3529262882287022,
          0.3187611256633683,
          0.716256629015461,
          0.4128666256453674,
          0.8491147515208778,
          0.5756377527209784,
          0.5134762888283367,
          0.5337845688963219,
          0.3406786727177727,
          0.3249585442297859,
          0.389233971591206,
          0.3144366557771416,
          0.5135039212843147,
          0.4825616936279903,
          0.3917913443928038,
          0.4331398954955334,
          0.3962194043364213,
          0.5634444362501513,
          0.7041205960247172,
          0.7258522402594083,
          0.5489964313915826
         ]
        }
       ],
       "layout": {
        "coloraxis": {
         "cmax": 8.7,
         "cmin": 0,
         "colorbar": {
          "title": {
           "text": "Area [µm²]"
          }
         },
         "colorscale": [
          [
           0,
           "rgb(20,44,66)"
          ],
          [
           1,
           "rgb(90,179,244)"
          ]
         ]
        },
        "height": 1200,
        "legend": {
         "tracegroupgap": 0
        },
        "scene": {
         "domain": {
          "x": [
           0,
           1
          ],
          "y": [
           0,
           1
          ]
         },
         "xaxis": {
          "title": {
           "text": "g ratio"
          }
         },
         "yaxis": {
          "title": {
           "text": "orientation * eccentricity"
          }
         },
         "zaxis": {
          "title": {
           "text": "fiber diameter [µm]"
          },
          "type": "log"
         }
        },
        "template": {
         "data": {
          "bar": [
           {
            "error_x": {
             "color": "rgb(51,51,51)"
            },
            "error_y": {
             "color": "rgb(51,51,51)"
            },
            "marker": {
             "line": {
              "color": "rgb(237,237,237)",
              "width": 0.5
             },
             "pattern": {
              "fillmode": "overlay",
              "size": 10,
              "solidity": 0.2
             }
            },
            "type": "bar"
           }
          ],
          "barpolar": [
           {
            "marker": {
             "line": {
              "color": "rgb(237,237,237)",
              "width": 0.5
             },
             "pattern": {
              "fillmode": "overlay",
              "size": 10,
              "solidity": 0.2
             }
            },
            "type": "barpolar"
           }
          ],
          "carpet": [
           {
            "aaxis": {
             "endlinecolor": "rgb(51,51,51)",
             "gridcolor": "white",
             "linecolor": "white",
             "minorgridcolor": "white",
             "startlinecolor": "rgb(51,51,51)"
            },
            "baxis": {
             "endlinecolor": "rgb(51,51,51)",
             "gridcolor": "white",
             "linecolor": "white",
             "minorgridcolor": "white",
             "startlinecolor": "rgb(51,51,51)"
            },
            "type": "carpet"
           }
          ],
          "choropleth": [
           {
            "colorbar": {
             "outlinewidth": 0,
             "tickcolor": "rgb(237,237,237)",
             "ticklen": 6,
             "ticks": "inside"
            },
            "type": "choropleth"
           }
          ],
          "contour": [
           {
            "colorbar": {
             "outlinewidth": 0,
             "tickcolor": "rgb(237,237,237)",
             "ticklen": 6,
             "ticks": "inside"
            },
            "colorscale": [
             [
              0,
              "rgb(20,44,66)"
             ],
             [
              1,
              "rgb(90,179,244)"
             ]
            ],
            "type": "contour"
           }
          ],
          "contourcarpet": [
           {
            "colorbar": {
             "outlinewidth": 0,
             "tickcolor": "rgb(237,237,237)",
             "ticklen": 6,
             "ticks": "inside"
            },
            "type": "contourcarpet"
           }
          ],
          "heatmap": [
           {
            "colorbar": {
             "outlinewidth": 0,
             "tickcolor": "rgb(237,237,237)",
             "ticklen": 6,
             "ticks": "inside"
            },
            "colorscale": [
             [
              0,
              "rgb(20,44,66)"
             ],
             [
              1,
              "rgb(90,179,244)"
             ]
            ],
            "type": "heatmap"
           }
          ],
          "heatmapgl": [
           {
            "colorbar": {
             "outlinewidth": 0,
             "tickcolor": "rgb(237,237,237)",
             "ticklen": 6,
             "ticks": "inside"
            },
            "colorscale": [
             [
              0,
              "rgb(20,44,66)"
             ],
             [
              1,
              "rgb(90,179,244)"
             ]
            ],
            "type": "heatmapgl"
           }
          ],
          "histogram": [
           {
            "marker": {
             "pattern": {
              "fillmode": "overlay",
              "size": 10,
              "solidity": 0.2
             }
            },
            "type": "histogram"
           }
          ],
          "histogram2d": [
           {
            "colorbar": {
             "outlinewidth": 0,
             "tickcolor": "rgb(237,237,237)",
             "ticklen": 6,
             "ticks": "inside"
            },
            "colorscale": [
             [
              0,
              "rgb(20,44,66)"
             ],
             [
              1,
              "rgb(90,179,244)"
             ]
            ],
            "type": "histogram2d"
           }
          ],
          "histogram2dcontour": [
           {
            "colorbar": {
             "outlinewidth": 0,
             "tickcolor": "rgb(237,237,237)",
             "ticklen": 6,
             "ticks": "inside"
            },
            "colorscale": [
             [
              0,
              "rgb(20,44,66)"
             ],
             [
              1,
              "rgb(90,179,244)"
             ]
            ],
            "type": "histogram2dcontour"
           }
          ],
          "mesh3d": [
           {
            "colorbar": {
             "outlinewidth": 0,
             "tickcolor": "rgb(237,237,237)",
             "ticklen": 6,
             "ticks": "inside"
            },
            "type": "mesh3d"
           }
          ],
          "parcoords": [
           {
            "line": {
             "colorbar": {
              "outlinewidth": 0,
              "tickcolor": "rgb(237,237,237)",
              "ticklen": 6,
              "ticks": "inside"
             }
            },
            "type": "parcoords"
           }
          ],
          "pie": [
           {
            "automargin": true,
            "type": "pie"
           }
          ],
          "scatter": [
           {
            "fillpattern": {
             "fillmode": "overlay",
             "size": 10,
             "solidity": 0.2
            },
            "type": "scatter"
           }
          ],
          "scatter3d": [
           {
            "line": {
             "colorbar": {
              "outlinewidth": 0,
              "tickcolor": "rgb(237,237,237)",
              "ticklen": 6,
              "ticks": "inside"
             }
            },
            "marker": {
             "colorbar": {
              "outlinewidth": 0,
              "tickcolor": "rgb(237,237,237)",
              "ticklen": 6,
              "ticks": "inside"
             }
            },
            "type": "scatter3d"
           }
          ],
          "scattercarpet": [
           {
            "marker": {
             "colorbar": {
              "outlinewidth": 0,
              "tickcolor": "rgb(237,237,237)",
              "ticklen": 6,
              "ticks": "inside"
             }
            },
            "type": "scattercarpet"
           }
          ],
          "scattergeo": [
           {
            "marker": {
             "colorbar": {
              "outlinewidth": 0,
              "tickcolor": "rgb(237,237,237)",
              "ticklen": 6,
              "ticks": "inside"
             }
            },
            "type": "scattergeo"
           }
          ],
          "scattergl": [
           {
            "marker": {
             "colorbar": {
              "outlinewidth": 0,
              "tickcolor": "rgb(237,237,237)",
              "ticklen": 6,
              "ticks": "inside"
             }
            },
            "type": "scattergl"
           }
          ],
          "scattermapbox": [
           {
            "marker": {
             "colorbar": {
              "outlinewidth": 0,
              "tickcolor": "rgb(237,237,237)",
              "ticklen": 6,
              "ticks": "inside"
             }
            },
            "type": "scattermapbox"
           }
          ],
          "scatterpolar": [
           {
            "marker": {
             "colorbar": {
              "outlinewidth": 0,
              "tickcolor": "rgb(237,237,237)",
              "ticklen": 6,
              "ticks": "inside"
             }
            },
            "type": "scatterpolar"
           }
          ],
          "scatterpolargl": [
           {
            "marker": {
             "colorbar": {
              "outlinewidth": 0,
              "tickcolor": "rgb(237,237,237)",
              "ticklen": 6,
              "ticks": "inside"
             }
            },
            "type": "scatterpolargl"
           }
          ],
          "scatterternary": [
           {
            "marker": {
             "colorbar": {
              "outlinewidth": 0,
              "tickcolor": "rgb(237,237,237)",
              "ticklen": 6,
              "ticks": "inside"
             }
            },
            "type": "scatterternary"
           }
          ],
          "surface": [
           {
            "colorbar": {
             "outlinewidth": 0,
             "tickcolor": "rgb(237,237,237)",
             "ticklen": 6,
             "ticks": "inside"
            },
            "colorscale": [
             [
              0,
              "rgb(20,44,66)"
             ],
             [
              1,
              "rgb(90,179,244)"
             ]
            ],
            "type": "surface"
           }
          ],
          "table": [
           {
            "cells": {
             "fill": {
              "color": "rgb(237,237,237)"
             },
             "line": {
              "color": "white"
             }
            },
            "header": {
             "fill": {
              "color": "rgb(217,217,217)"
             },
             "line": {
              "color": "white"
             }
            },
            "type": "table"
           }
          ]
         },
         "layout": {
          "annotationdefaults": {
           "arrowhead": 0,
           "arrowwidth": 1
          },
          "autotypenumbers": "strict",
          "coloraxis": {
           "colorbar": {
            "outlinewidth": 0,
            "tickcolor": "rgb(237,237,237)",
            "ticklen": 6,
            "ticks": "inside"
           }
          },
          "colorscale": {
           "sequential": [
            [
             0,
             "rgb(20,44,66)"
            ],
            [
             1,
             "rgb(90,179,244)"
            ]
           ],
           "sequentialminus": [
            [
             0,
             "rgb(20,44,66)"
            ],
            [
             1,
             "rgb(90,179,244)"
            ]
           ]
          },
          "colorway": [
           "#F8766D",
           "#A3A500",
           "#00BF7D",
           "#00B0F6",
           "#E76BF3"
          ],
          "font": {
           "color": "rgb(51,51,51)"
          },
          "geo": {
           "bgcolor": "white",
           "lakecolor": "white",
           "landcolor": "rgb(237,237,237)",
           "showlakes": true,
           "showland": true,
           "subunitcolor": "white"
          },
          "hoverlabel": {
           "align": "left"
          },
          "hovermode": "closest",
          "paper_bgcolor": "white",
          "plot_bgcolor": "rgb(237,237,237)",
          "polar": {
           "angularaxis": {
            "gridcolor": "white",
            "linecolor": "white",
            "showgrid": true,
            "tickcolor": "rgb(51,51,51)",
            "ticks": "outside"
           },
           "bgcolor": "rgb(237,237,237)",
           "radialaxis": {
            "gridcolor": "white",
            "linecolor": "white",
            "showgrid": true,
            "tickcolor": "rgb(51,51,51)",
            "ticks": "outside"
           }
          },
          "scene": {
           "xaxis": {
            "backgroundcolor": "rgb(237,237,237)",
            "gridcolor": "white",
            "gridwidth": 2,
            "linecolor": "white",
            "showbackground": true,
            "showgrid": true,
            "tickcolor": "rgb(51,51,51)",
            "ticks": "outside",
            "zerolinecolor": "white"
           },
           "yaxis": {
            "backgroundcolor": "rgb(237,237,237)",
            "gridcolor": "white",
            "gridwidth": 2,
            "linecolor": "white",
            "showbackground": true,
            "showgrid": true,
            "tickcolor": "rgb(51,51,51)",
            "ticks": "outside",
            "zerolinecolor": "white"
           },
           "zaxis": {
            "backgroundcolor": "rgb(237,237,237)",
            "gridcolor": "white",
            "gridwidth": 2,
            "linecolor": "white",
            "showbackground": true,
            "showgrid": true,
            "tickcolor": "rgb(51,51,51)",
            "ticks": "outside",
            "zerolinecolor": "white"
           }
          },
          "shapedefaults": {
           "fillcolor": "black",
           "line": {
            "width": 0
           },
           "opacity": 0.3
          },
          "ternary": {
           "aaxis": {
            "gridcolor": "white",
            "linecolor": "white",
            "showgrid": true,
            "tickcolor": "rgb(51,51,51)",
            "ticks": "outside"
           },
           "baxis": {
            "gridcolor": "white",
            "linecolor": "white",
            "showgrid": true,
            "tickcolor": "rgb(51,51,51)",
            "ticks": "outside"
           },
           "bgcolor": "rgb(237,237,237)",
           "caxis": {
            "gridcolor": "white",
            "linecolor": "white",
            "showgrid": true,
            "tickcolor": "rgb(51,51,51)",
            "ticks": "outside"
           }
          },
          "xaxis": {
           "automargin": true,
           "gridcolor": "white",
           "linecolor": "white",
           "showgrid": true,
           "tickcolor": "rgb(51,51,51)",
           "ticks": "outside",
           "title": {
            "standoff": 15
           },
           "zerolinecolor": "white"
          },
          "yaxis": {
           "automargin": true,
           "gridcolor": "white",
           "linecolor": "white",
           "showgrid": true,
           "tickcolor": "rgb(51,51,51)",
           "ticks": "outside",
           "title": {
            "standoff": 15
           },
           "zerolinecolor": "white"
          }
         }
        },
        "title": {
         "text": "gratio, eccentricity * orientation, inner_minor_axis_length"
        },
        "width": 1200
       }
      }
     },
     "metadata": {},
     "output_type": "display_data"
    }
   ],
   "source": [
    "scatter_3d = px.scatter_3d(measurements_all, \n",
    "                       x=\"gratio\", \n",
    "                       y=z_score_dataframe(measurements_all[\"eccentricity_mean\"] * ((measurements_all[\"inner_orientation\"]+measurements_all[\"outer_orientation\"])/2)), \n",
    "                       z=measurements_all[\"inner_axis_minor_length\"], \n",
    "                       color=measurements_all[\"inner_area\"],\n",
    "                       template=\"ggplot2\",\n",
    "                     #   template=\"presentation\",\n",
    "                       title=\"gratio, eccentricity * orientation, inner_minor_axis_length\")\n",
    "\n",
    "scatter_3d.update_traces(marker=dict(size=2))\n",
    "scatter_3d.update_layout(scene=dict(zaxis=dict(type=\"log\", title=\"fiber diameter [µm]\"),\n",
    "                                    yaxis=dict(title=\"orientation * eccentricity\"),\n",
    "                                    xaxis=dict(title=\"g ratio\")),\n",
    "                                    # bgcolor='rgb(200, 200, 205)'),  # Change the background color of the 3D scene to grey\n",
    "                        width=1200,  # Adjust the width to your desired value\n",
    "                        height=1200,  # Adjust the height to your desired value\n",
    "                        )\n",
    "\n",
    "scatter_3d.update_coloraxes(cmin=0, cmax=8.7)\n",
    "scatter_3d.update_coloraxes(colorbar=dict(title=\"Area [µm²]\"))\n",
    "\n",
    "# Save and display the 3D plot\n",
    "# pio.write_image(scatter_3d, path_results + \"_3D_gratio_orientation_inneraxis.png\")\n",
    "scatter_3d.show()"
   ]
  }
 ],
 "metadata": {
  "kernelspec": {
   "display_name": "Python 3 (ipykernel)",
   "language": "python",
   "name": "python3"
  },
  "language_info": {
   "codemirror_mode": {
    "name": "ipython",
    "version": 3
   },
   "file_extension": ".py",
   "mimetype": "text/x-python",
   "name": "python",
   "nbconvert_exporter": "python",
   "pygments_lexer": "ipython3",
   "version": "3.9.18"
  },
  "vscode": {
   "interpreter": {
    "hash": "70872d9391d81c395414a8f2dee50b81046d87985b9f49094da2e088be9fde0a"
   }
  }
 },
 "nbformat": 4,
 "nbformat_minor": 2
}
